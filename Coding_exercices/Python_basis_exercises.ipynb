{
 "cells": [
  {
   "cell_type": "code",
   "execution_count": null,
   "metadata": {},
   "outputs": [],
   "source": [
    "print('Hello World!')"
   ]
  },
  {
   "cell_type": "code",
   "execution_count": null,
   "metadata": {},
   "outputs": [],
   "source": [
    "print('Hello World!')\n",
    "print('What is your name?')"
   ]
  },
  {
   "cell_type": "code",
   "execution_count": 5,
   "metadata": {},
   "outputs": [
    {
     "name": "stdout",
     "output_type": "stream",
     "text": [
      "Hello World!\n",
      "What is your name?\n",
      "Felipe\n"
     ]
    }
   ],
   "source": [
    "print('Hello World!')\n",
    "print('What is your name?')\n",
    "\n",
    "myName = input()\n"
   ]
  },
  {
   "cell_type": "code",
   "execution_count": 6,
   "metadata": {},
   "outputs": [
    {
     "name": "stdout",
     "output_type": "stream",
     "text": [
      "Felipe\n"
     ]
    }
   ],
   "source": [
    "print(myName)"
   ]
  },
  {
   "cell_type": "code",
   "execution_count": 10,
   "metadata": {},
   "outputs": [
    {
     "name": "stdout",
     "output_type": "stream",
     "text": [
      "Hello, Felipe ,nice to meet you!\n"
     ]
    }
   ],
   "source": [
    "print('Hello,', myName, ',nice to meet you!')"
   ]
  },
  {
   "cell_type": "code",
   "execution_count": 12,
   "metadata": {},
   "outputs": [
    {
     "name": "stdout",
     "output_type": "stream",
     "text": [
      "Hello world!\n",
      "What is your name?\n",
      "Felipe\n",
      "Hello, nice to meet you Felipe !\n"
     ]
    }
   ],
   "source": [
    "\n",
    "print('Hello world!')\n",
    "print('What is your name?')\n",
    "\n",
    "myName = input()\n",
    "\n",
    "print('Hello,', 'nice to meet you', myName,'!')"
   ]
  },
  {
   "cell_type": "markdown",
   "metadata": {},
   "source": [
    "# Exercise 2\n"
   ]
  },
  {
   "cell_type": "code",
   "execution_count": 16,
   "metadata": {},
   "outputs": [
    {
     "name": "stdout",
     "output_type": "stream",
     "text": [
      "Felipe\n",
      "6\n"
     ]
    }
   ],
   "source": [
    "myName = input()\n",
    "print(len(myName))"
   ]
  },
  {
   "cell_type": "code",
   "execution_count": 17,
   "metadata": {},
   "outputs": [
    {
     "name": "stdout",
     "output_type": "stream",
     "text": [
      "What is your name?\n",
      "Kristian\n",
      "Kristian has 8 characters.\n"
     ]
    }
   ],
   "source": [
    "print('What is your name?')\n",
    "\n",
    "myName = input()\n",
    "\n",
    "print(myName, 'has', len(myName), 'characters.')"
   ]
  },
  {
   "cell_type": "code",
   "execution_count": 18,
   "metadata": {},
   "outputs": [
    {
     "name": "stdout",
     "output_type": "stream",
     "text": [
      "What is your name?\n",
      "Felipe\n",
      "Felipe has 6 characters.\n"
     ]
    }
   ],
   "source": [
    "print('What is your name?')\n",
    "\n",
    "myName = input()\n",
    "\n",
    "print(myName, 'has', len(myName), 'characters.')"
   ]
  },
  {
   "cell_type": "markdown",
   "metadata": {},
   "source": [
    "# Exercise 3\n"
   ]
  },
  {
   "cell_type": "code",
   "execution_count": 41,
   "metadata": {},
   "outputs": [
    {
     "name": "stdout",
     "output_type": "stream",
     "text": [
      "What is the quote?, These aren´t the droids you´re looking for. Who said it?, Obi-Wan Kenobi Obi-Wan Kenobi says, \"These aren´t the droids you´re looking for.\"\n"
     ]
    }
   ],
   "source": [
    "str1 = str('What is the quote?, These aren´t the droids you´re looking for.') \n",
    "str2 = str('Who said it?, Obi-Wan Kenobi')\n",
    "str3 = 'Obi-Wan Kenobi says, \"These aren´t the droids you´re looking for.\"'\n",
    "print(str1, str2, str3)\n"
   ]
  },
  {
   "cell_type": "code",
   "execution_count": 9,
   "metadata": {
    "scrolled": true
   },
   "outputs": [
    {
     "name": "stdout",
     "output_type": "stream",
     "text": [
      "What is the quote?\n",
      "to be or not to be\n",
      "Who said it?\n",
      "Hamlet\n",
      "Hamlet says, to be or not to be\n"
     ]
    }
   ],
   "source": [
    "print('What is the quote?')\n",
    "quote = input()\n",
    "print('Who said it?')\n",
    "name = input()\n",
    "print(name, 'says,', quote)"
   ]
  },
  {
   "cell_type": "code",
   "execution_count": 5,
   "metadata": {},
   "outputs": [
    {
     "name": "stdout",
     "output_type": "stream",
     "text": [
      "What is the quote?To be or not to be\n",
      "Who said it?\n",
      "Hamlet\n",
      "Hamlet says, quote\n"
     ]
    }
   ],
   "source": [
    "quote = input('What is the quote?')\n",
    "print('Who said it?')\n",
    "name = input()\n",
    "print(name, 'says,', quote)"
   ]
  },
  {
   "cell_type": "markdown",
   "metadata": {},
   "source": [
    "# Exercise 4"
   ]
  },
  {
   "cell_type": "code",
   "execution_count": 6,
   "metadata": {},
   "outputs": [
    {
     "name": "stdout",
     "output_type": "stream",
     "text": [
      "Enter a noun: dog\n",
      "Enter a verb: \n",
      "walk\n",
      "Enter an adjective: \n",
      "blue\n",
      "Enter an adverb: \n",
      "quickly\n",
      "Do you walk your blue dog quickly ? That´s hilarious!\n"
     ]
    }
   ],
   "source": [
    "print('Enter a noun: ')\n",
    "noun = input()\n",
    "print('Enter a verb: ')\n",
    "verb = input()\n",
    "print('Enter an adjective: ')\n",
    "adjective = input()\n",
    "print('Enter an adverb: ')\n",
    "adverb = input()\n",
    "print('Do you', verb, 'your', adjective, noun, adverb,'?', 'That´s hilarious!')"
   ]
  },
  {
   "cell_type": "code",
   "execution_count": 7,
   "metadata": {},
   "outputs": [
    {
     "name": "stdout",
     "output_type": "stream",
     "text": [
      "Enter a noun: cat \n",
      "Enter a verb: snore\n",
      "Enter an adjective: loud\n",
      "Enter an adverb: long\n",
      "Do you snore your loud cat  long ? That´s hilarious!\n"
     ]
    }
   ],
   "source": [
    "#print('Enter a noun: ')\n",
    "noun = input('Enter a noun: ')\n",
    "#print('Enter a verb: ')\n",
    "verb = input('Enter a verb: ')\n",
    "#print('Enter an adjective: ')\n",
    "adjective = input('Enter an adjective: ')\n",
    "#print('Enter an adverb: ')\n",
    "adverb = input('Enter an adverb: ')\n",
    "print('Do you', verb, 'your', adjective, noun, adverb,'?', 'That´s hilarious!')"
   ]
  },
  {
   "cell_type": "markdown",
   "metadata": {},
   "source": [
    "# Exercise 5"
   ]
  },
  {
   "cell_type": "code",
   "execution_count": 13,
   "metadata": {},
   "outputs": [
    {
     "name": "stdout",
     "output_type": "stream",
     "text": [
      "What is the first number?\n",
      "10\n",
      "What is the second number?\n",
      "5\n",
      "15\n",
      "5\n",
      "50\n",
      "2.0\n"
     ]
    }
   ],
   "source": [
    "print('What is the first number?')\n",
    "number1 = input()\n",
    "print('What is the second number?')\n",
    "number2 = input()\n",
    "print(int(number1) + int(number2))\n",
    "print(int(number1) - int(number2))\n",
    "print(int(number1) * int(number2))\n",
    "print(int(number1) / int(number2))"
   ]
  },
  {
   "cell_type": "code",
   "execution_count": 22,
   "metadata": {},
   "outputs": [
    {
     "name": "stdout",
     "output_type": "stream",
     "text": [
      "What is the first number?\n",
      "10\n",
      "What is the second number?\n",
      "5\n",
      "10 + 5 = 15\n",
      "10 - 5 = 5\n",
      "10 * 5 = 50\n",
      "10 / 5 = 2\n"
     ]
    }
   ],
   "source": [
    "print('What is the first number?')\n",
    "number1 = input()\n",
    "print('What is the second number?')\n",
    "number2 = input()\n",
    "print(number1, '+', number2 + ' =', int(number1) + int(number2))\n",
    "print(number1, '-', number2 + ' =', int(number1) - int(number2))\n",
    "print(number1, '*', number2 + ' =', int(number1) * int(number2))\n",
    "print(number1, '/', number2 + ' =', int(number1) // int(number2))"
   ]
  },
  {
   "cell_type": "markdown",
   "metadata": {},
   "source": [
    "# Exercise 6"
   ]
  },
  {
   "cell_type": "code",
   "execution_count": 5,
   "metadata": {},
   "outputs": [
    {
     "name": "stdout",
     "output_type": "stream",
     "text": [
      "What is your current age?\n",
      "35\n",
      "At what age would you like to retire?\n",
      "65\n",
      "you have 30 years left until you can retire.\n",
      "It´s 2018  , so you can retire in 2048\n"
     ]
    }
   ],
   "source": [
    "from datetime import datetime\n",
    "\n",
    "ayear = datetime.now().year\n",
    "\n",
    "print('What is your current age?')\n",
    "age = input()\n",
    "print('At what age would you like to retire?')\n",
    "age1 = input()\n",
    "ages = int(age1) - int(age)\n",
    "print('you have', ages, 'years left until you can retire.')\n",
    "print('It´s', ayear,' , so you can retire in', ayear + ages)\n"
   ]
  },
  {
   "cell_type": "code",
   "execution_count": 6,
   "metadata": {},
   "outputs": [
    {
     "data": {
      "text/plain": [
       "'2018-10-16 11:34:23'"
      ]
     },
     "execution_count": 6,
     "metadata": {},
     "output_type": "execute_result"
    }
   ],
   "source": [
    "from datetime import datetime\n",
    "\n",
    "datetime.now().strftime('%Y-%m-%d %H:%M:%S')"
   ]
  },
  {
   "cell_type": "code",
   "execution_count": 7,
   "metadata": {},
   "outputs": [
    {
     "data": {
      "text/plain": [
       "2018"
      ]
     },
     "execution_count": 7,
     "metadata": {},
     "output_type": "execute_result"
    }
   ],
   "source": [
    "from datetime import datetime\n",
    "\n",
    "datetime.now().year"
   ]
  },
  {
   "cell_type": "markdown",
   "metadata": {},
   "source": [
    "# Exercise 7"
   ]
  },
  {
   "cell_type": "code",
   "execution_count": 13,
   "metadata": {},
   "outputs": [
    {
     "name": "stdout",
     "output_type": "stream",
     "text": [
      "What is the length of the room in feet?\n",
      "15\n",
      "What is the width of the room in feet?\n",
      "20\n",
      "You entered dimensions of 15 feet by 20 feet\n",
      "The area is\n",
      "300 square feet\n",
      "  27.871 square meters\n"
     ]
    }
   ],
   "source": [
    "# formula to use = print(f'{areasm: 8.3f} square meters') the f is format string \"\" \n",
    "\n",
    "print('What is the length of the room in feet?')\n",
    "length  = input()\n",
    "print('What is the width of the room in feet?')\n",
    "width = input()\n",
    "print('You entered dimensions of', length, 'feet by', width, 'feet')\n",
    "print('The area is')\n",
    "area = int(length) * int(width)\n",
    "areasm = int(area) * 0.09290304 \n",
    "print(area, 'square feet')\n",
    "print(f\"{areasm: 8.3f} square meters\") \n",
    "\n"
   ]
  },
  {
   "cell_type": "markdown",
   "metadata": {},
   "source": [
    "# Exercise 8"
   ]
  },
  {
   "cell_type": "code",
   "execution_count": 1,
   "metadata": {
    "scrolled": true
   },
   "outputs": [
    {
     "name": "stdout",
     "output_type": "stream",
     "text": [
      "How many people?\n",
      "8\n",
      "How many pizzas do you have?\n",
      "2\n",
      "8 people with 2 pizzas\n",
      "Each person gets 4 pieces of pizza.\n"
     ]
    }
   ],
   "source": [
    "\n",
    "print('How many people?')\n",
    "people = input()\n",
    "print('How many pizzas do you have?')\n",
    "pizzas = input()\n",
    "print(people, 'people with', pizzas, 'pizzas')\n",
    "slices = int(people) // int(pizzas)\n",
    "print('Each person gets', slices, 'pieces of pizza.')\n",
    "\n"
   ]
  },
  {
   "cell_type": "code",
   "execution_count": 2,
   "metadata": {},
   "outputs": [
    {
     "name": "stdout",
     "output_type": "stream",
     "text": [
      "How many people?\n",
      "8\n",
      "How many pizzas do you have?\n",
      "2\n",
      "8 people with 2 pizzas.\n",
      "how many slices?\n",
      "4\n",
      "Each person gets 1 pieces of pizza\n",
      "There are 0 leftover pieces.\n"
     ]
    }
   ],
   "source": [
    "# x = persons\n",
    "# y = pizza\n",
    "\n",
    "print('How many people?')\n",
    "\n",
    "try:\n",
    "    x = int(input(\"\"))\n",
    "    \n",
    "    \n",
    "except ValueError:\n",
    "    print(\"Oops!  That was no valid number.  Try again...\")\n",
    "\n",
    "print('How many pizzas do you have?')\n",
    "\n",
    "try:\n",
    "    y = int(input(''))\n",
    "    \n",
    "    \n",
    "except ValueError:\n",
    "    print('Oops!  That was no valid number.  Try again...')\n",
    "\n",
    "print(x, 'people with', y, 'pizzas.')\n",
    "\n",
    "print('how many slices?')\n",
    "\n",
    "try:\n",
    "    z = int(input(''))\n",
    "    \n",
    "except ValueError:\n",
    "    print('Oops! That was no a valid number. Try again...')\n",
    "\n",
    "print('Each person gets', (y * z)// x, 'pieces of pizza')\n",
    "\n",
    "print('There are', (y * z) % x, 'leftover pieces.')\n",
    "\n",
    "\n",
    "# cada pizza tiene 4 porciones esto es para 4 personas  \n",
    "\n",
    "    "
   ]
  },
  {
   "cell_type": "markdown",
   "metadata": {},
   "source": [
    "# Exercice 9"
   ]
  },
  {
   "cell_type": "code",
   "execution_count": 22,
   "metadata": {},
   "outputs": [
    {
     "name": "stdout",
     "output_type": "stream",
     "text": [
      "What is the length of the room in feet? 18\n",
      "What is the width of the room in feet? 20\n",
      "You entered dimensions of 18 feet by 20 feet\n",
      "The area is\n",
      "360 square feet\n",
      "   33.45 square meters\n"
     ]
    },
    {
     "data": {
      "text/plain": [
       "2"
      ]
     },
     "execution_count": 22,
     "metadata": {},
     "output_type": "execute_result"
    }
   ],
   "source": [
    "'''\n",
    "# ask for the area to paint square feet or square meters\n",
    "# 350 square feet is = one gallon\n",
    "# Use a constat to hold the conversion rate\n",
    "# ensure to round up to the next whole number.\n",
    "\n",
    "\n",
    "'''\n",
    "import math\n",
    "\n",
    "#print(math.ceil(4.2)) function for round up a number\n",
    "\n",
    "# 18 * 20 = 360 feet \n",
    "# 360 = 33.445 square meters\n",
    "# 1 gallon = 350 feet\n",
    "\n",
    "length  = input('What is the length of the room in feet? ')\n",
    "\n",
    "width = input('What is the width of the room in feet? ')\n",
    "\n",
    "print('You entered dimensions of', length, 'feet by', width, 'feet')\n",
    "\n",
    "print('The area is')\n",
    "area = int(length) * int(width)\n",
    "areasm = int(area) * 0.09290304 \n",
    "\n",
    "print(area, 'square feet')\n",
    "print(f\"{areasm: 8.2f} square meters\") \n",
    "\n",
    "x = (math.ceil(area / 350))\n",
    "x \n"
   ]
  },
  {
   "cell_type": "markdown",
   "metadata": {},
   "source": [
    "# Exercise 10"
   ]
  },
  {
   "cell_type": "code",
   "execution_count": 4,
   "metadata": {},
   "outputs": [
    {
     "name": "stdout",
     "output_type": "stream",
     "text": [
      "Welcome to Tensor Thyme self-checkout system\n",
      "Enter the price of item 1: 25\n",
      "Enter the quantity of item 1: 2\n",
      "Enter the price of item 2: 10\n",
      "Enter the quantity of item 2: 1\n",
      "Enter the price of item 3: 4\n",
      "Enter the quantity of item 3: 1\n",
      "Subtotal: $ 64.0\n",
      "Tax: $ 3.52\n",
      "Total: $ 67.52\n"
     ]
    }
   ],
   "source": [
    "# Create a simple self-checkout system.\n",
    "\n",
    "print('Welcome to Tensor Thyme self-checkout system')\n",
    "\n",
    "item1 = float(input('Enter the price of item 1: '))\n",
    "quantity1 = int(input('Enter the quantity of item 1: '))\n",
    "item2 = float(input('Enter the price of item 2: '))\n",
    "quantity2 = int(input('Enter the quantity of item 2: '))\n",
    "item3 = float(input('Enter the price of item 3: '))\n",
    "quantity3 = int(input('Enter the quantity of item 3: '))\n",
    "\n",
    "x = (item1 * quantity1) + (item2 * quantity2) + (item3 * quantity3) \n",
    "x \n",
    "\n",
    "taxrate = 0.055\n",
    "\n",
    "print('Subtotal: $', x)\n",
    "print('Tax: $', (x * taxrate))\n",
    "print('Total: $', (x + (x * taxrate)))\n",
    "\n"
   ]
  },
  {
   "cell_type": "code",
   "execution_count": 7,
   "metadata": {},
   "outputs": [
    {
     "name": "stdout",
     "output_type": "stream",
     "text": [
      "Welcome to Tensor Thyme self-checkout system\n",
      "Enter the total amount of items: 3\n",
      "Enter the price of item: 25\n",
      "Enter the quantity of item: 2\n",
      "Enter the price of item: 10\n",
      "Enter the quantity of item: 1\n",
      "Enter the price of item: 4\n",
      "Enter the quantity of item: 1\n",
      "Subtotal: $ 64.0\n",
      "Tax: $ 3.52\n",
      "Total: $ 67.52\n"
     ]
    }
   ],
   "source": [
    "#amount = int(input('Enter the total amount of items: '))\n",
    "\n",
    "\n",
    "print('Welcome to Tensor Thyme self-checkout system')\n",
    "\n",
    "\n",
    "amount = int(input('Enter the total amount of items: '))\n",
    "\n",
    "x = 0\n",
    "\n",
    "\n",
    "while amount != 0:\n",
    "        \n",
    "    item = float(input('Enter the price of item: '))\n",
    "    quantity = int(input('Enter the quantity of item: '))\n",
    "    \n",
    "    amount = amount - 1 \n",
    "    x = x + item * quantity # subtotal  \n",
    "\n",
    "taxrate = 0.055\n",
    "\n",
    "print('Subtotal: $', x)\n",
    "print('Tax: $', (x * taxrate))\n",
    "print('Total: $', (x + (x * taxrate)))\n"
   ]
  },
  {
   "cell_type": "code",
   "execution_count": 24,
   "metadata": {},
   "outputs": [
    {
     "name": "stdout",
     "output_type": "stream",
     "text": [
      "Welcome to Tensor Thyme self-checkout system\n",
      "Enter the price of item: 25\n",
      "Enter the quantity of item: 2\n",
      "Enter the price of item: 10\n",
      "Enter the quantity of item: 1\n",
      "Enter the price of item: 4\n",
      "Enter the quantity of item: 1\n",
      "Enter the price of item: 0\n",
      "Enter the quantity of item: 0\n",
      "Subtotal: $ 64.0\n",
      "Tax: $ 3.52\n",
      "Total: $ 67.52\n"
     ]
    }
   ],
   "source": [
    "# item = []\n",
    "# quantity = []\n",
    "\n",
    "# item.append(float(input('Enter the price of item: ')))\n",
    "# quantity.append(int(input('Enter the quantity of item: ')))\n",
    "\n",
    "\n",
    "x = 0\n",
    "item = []\n",
    "quantity = []\n",
    "stop = False\n",
    "\n",
    "print('Welcome to Tensor Thyme self-checkout system')\n",
    "\n",
    "while stop != True:\n",
    "    \n",
    "    item.append(float(input('Enter the price of item: ')))\n",
    "    quantity.append(int(input('Enter the quantity of item: ')))\n",
    "    \n",
    "    if quantity [-1] == 0:\n",
    "        stop = True\n",
    "        \n",
    "    x = x + item[-1] * quantity[-1] # subtotal must be outside loop\n",
    "\n",
    "    \n",
    "taxrate = 0.055\n",
    "\n",
    "print('Subtotal: $', x)\n",
    "print('Tax: $', (x * taxrate))\n",
    "print('Total: $', (x + (x * taxrate))) \n"
   ]
  },
  {
   "cell_type": "markdown",
   "metadata": {},
   "source": [
    "# EXERCISE 11\n",
    "\n",
    "CURRENCY CONVERSION"
   ]
  },
  {
   "cell_type": "code",
   "execution_count": 9,
   "metadata": {},
   "outputs": [
    {
     "name": "stdout",
     "output_type": "stream",
     "text": [
      "How many euros are you exchanging? 81\n",
      "what is the exchange rate? 1.3751\n",
      "81 euros at an exchange rate of 1.3751 is\n",
      "111.38 U.S. dollars.\n"
     ]
    }
   ],
   "source": [
    "'''\n",
    "Amount to = is the amount in US dollars.\n",
    "Amount from = is the amount in Euros\n",
    "rate from = is the current exchange rate in euros.\n",
    "rate to = is the current exchange rate of the US dollar\n",
    "\n",
    "formula is = amount to = amount from * rate from / rate to.\n",
    "\n",
    "'''\n",
    "\n",
    "\n",
    "currency = int(input('How many euros are you exchanging? '))\n",
    "exchangerate = float(input('what is the exchange rate? '))\n",
    "print(currency, 'euros at an exchange rate of', exchangerate, 'is')\n",
    "print(round(currency * exchangerate, 2), 'U.S. dollars.')"
   ]
  },
  {
   "cell_type": "code",
   "execution_count": null,
   "metadata": {},
   "outputs": [
    {
     "name": "stdout",
     "output_type": "stream",
     "text": [
      "How many euros are you exchanging? 81\n",
      "what is the exchange rate? 1.3751\n",
      "81 euros at an exchange rate of 1.3751 is\n",
      "111.38 U.S. dollars.\n"
     ]
    }
   ],
   "source": [
    "\n",
    "\n",
    "print('Welcome to Tensor Thyme currency converter system')\n",
    "\n",
    "x = 0\n",
    "\n",
    "amount = int(input('How many euros are you exchanging? '))\n",
    "\n",
    "\n",
    "while amount != 0:\n",
    "        \n",
    "    exchange_rate = float(input('what is the exchange rate? '))\n",
    "    print(amount, 'euros at an exchange rate of', exchange_rate, 'is')\n",
    "    \n",
    "    amount = amount\n",
    "    x = x + amount * exchange_rate\n",
    "    print(round(x, 2), 'U.S. dollars.')\n",
    "\n",
    "\n",
    "\n",
    "##taxrate = 0.055\n",
    "\n",
    "#print('Subtotal: $', x)\n",
    "#print('Tax: $', (x * taxrate))\n",
    "#print('Total: $', (x + (x * taxrate)))\n"
   ]
  },
  {
   "cell_type": "code",
   "execution_count": 4,
   "metadata": {},
   "outputs": [
    {
     "name": "stdout",
     "output_type": "stream",
     "text": [
      "Welcome to Tensor Thyme currency converter system\n",
      "How many euros are you exchanging? 81\n",
      "what is the exchange rate? 1.3751\n",
      "How many euros are you exchanging? 0\n",
      "what is the exchange rate? 0\n",
      "111.38 U.S. dollars.\n"
     ]
    }
   ],
   "source": [
    "x = 0\n",
    "amount = []\n",
    "exchange_rate = []\n",
    "stop = False\n",
    "\n",
    "print('Welcome to Tensor Thyme currency converter system')\n",
    "\n",
    "while stop != True:\n",
    "    \n",
    "    amount.append(int(input('How many euros are you exchanging? ')))\n",
    "    exchange_rate.append(float(input('what is the exchange rate? ')))\n",
    "    \n",
    "    if exchange_rate[-1] == 0:\n",
    "        stop = True\n",
    "        \n",
    "    x = x + amount[-1] * exchange_rate[-1] # subtotal must be outside loop\n",
    "\n",
    "    \n",
    "print(round(x, 2), 'U.S. dollars.') "
   ]
  },
  {
   "cell_type": "markdown",
   "metadata": {},
   "source": [
    "# EXERCISE 11\n",
    "\n",
    "Computing Simple Interest"
   ]
  },
  {
   "cell_type": "code",
   "execution_count": 51,
   "metadata": {},
   "outputs": [
    {
     "name": "stdout",
     "output_type": "stream",
     "text": [
      "Welcome to Tensor Thyme computing simple interest\n",
      "Enter the initial amount: 1500\n",
      "Enter the interest amount: 4.3\n",
      "Enter the number of years: 4\n",
      "after 4 years at 4.3 , the investment will\n",
      "be worth $ 1758.0\n"
     ]
    }
   ],
   "source": [
    "'''\n",
    "formula - A = P(1 + rt)\n",
    "where p is the prncipal amount\n",
    "r is the anual rate of interest \n",
    "t is the number of years the amount is invested\n",
    "A is the amount at the end of the investment\n",
    "''' \n",
    "# x = 0\n",
    "# x = x + amount * (1 + ((interest/100) * years)\n",
    "\n",
    "print('Welcome to Tensor Thyme computing simple interest')\n",
    "\n",
    "amount = int(input('Enter the initial amount: '))\n",
    "interest = float(input('Enter the interest amount: '))\n",
    "years = int(input('Enter the number of years: '))\n",
    "\n",
    "print('after', years, 'years at', interest, ', the investment will')\n",
    "print('be worth $', amount * (1 + ((interest/100) * years)))\n",
    "          \n"
   ]
  },
  {
   "cell_type": "code",
   "execution_count": 2,
   "metadata": {},
   "outputs": [
    {
     "name": "stdout",
     "output_type": "stream",
     "text": [
      "Welcome to Tensor Thyme computing simple interest\n",
      "Enter the initial amount: 1500\n",
      "Enter the interest amount: 4.3\n",
      "Enter the number of years: 4\n",
      "after 4 years at 4.3 , the investment will\n",
      "be worth $ 1758.0\n"
     ]
    }
   ],
   "source": [
    "# Python3 program to find simple interest \n",
    "# for given principal amount, time and \n",
    "# rate of interest. \n",
    "  \n",
    "# We can change values here for \n",
    "# different inputs \n",
    "\n",
    "print('Welcome to Tensor Thyme computing simple interest')\n",
    "\n",
    "P = int(input('Enter the initial amount: '))\n",
    "R = float(input('Enter the interest amount: '))\n",
    "T = int(input('Enter the number of years: '))\n",
    "\n",
    "print('after', T, 'years at', R, ', the investment will')\n",
    "  \n",
    "# Calculates simple interest  \n",
    "SI = P*(1 + (R/100)*T)\n",
    "  \n",
    "# Print the resultant value of SI  \n",
    "print(\"be worth $\", SI) \n",
    "\n"
   ]
  },
  {
   "cell_type": "code",
   "execution_count": 12,
   "metadata": {},
   "outputs": [
    {
     "name": "stdout",
     "output_type": "stream",
     "text": [
      "Welcome to Tensor Thyme computing simple interest\n",
      "Enter the initial amount: 1500\n"
     ]
    },
    {
     "ename": "AttributeError",
     "evalue": "'list' object attribute 'append' is read-only",
     "output_type": "error",
     "traceback": [
      "\u001b[1;31m---------------------------------------------------------------------------\u001b[0m",
      "\u001b[1;31mAttributeError\u001b[0m                            Traceback (most recent call last)",
      "\u001b[1;32m<ipython-input-12-f9fb9a2aef86>\u001b[0m in \u001b[0;36m<module>\u001b[1;34m()\u001b[0m\n\u001b[0;32m     11\u001b[0m \u001b[1;32mwhile\u001b[0m \u001b[0mstop\u001b[0m \u001b[1;33m!=\u001b[0m \u001b[1;32mTrue\u001b[0m\u001b[1;33m:\u001b[0m\u001b[1;33m\u001b[0m\u001b[0m\n\u001b[0;32m     12\u001b[0m \u001b[1;33m\u001b[0m\u001b[0m\n\u001b[1;32m---> 13\u001b[1;33m     \u001b[0mP\u001b[0m\u001b[1;33m.\u001b[0m\u001b[0mappend\u001b[0m \u001b[1;33m=\u001b[0m \u001b[0mint\u001b[0m\u001b[1;33m(\u001b[0m\u001b[0minput\u001b[0m\u001b[1;33m(\u001b[0m\u001b[1;34m'Enter the initial amount: '\u001b[0m\u001b[1;33m)\u001b[0m\u001b[1;33m)\u001b[0m\u001b[1;33m\u001b[0m\u001b[0m\n\u001b[0m\u001b[0;32m     14\u001b[0m     \u001b[0mi\u001b[0m\u001b[1;33m.\u001b[0m\u001b[0mappend\u001b[0m \u001b[1;33m=\u001b[0m \u001b[0mfloat\u001b[0m\u001b[1;33m(\u001b[0m\u001b[0minput\u001b[0m\u001b[1;33m(\u001b[0m\u001b[1;34m'Enter the interest amount: '\u001b[0m\u001b[1;33m)\u001b[0m\u001b[1;33m)\u001b[0m\u001b[1;33m\u001b[0m\u001b[0m\n\u001b[0;32m     15\u001b[0m     \u001b[0mt\u001b[0m\u001b[1;33m.\u001b[0m\u001b[0mappend\u001b[0m \u001b[1;33m=\u001b[0m \u001b[0mint\u001b[0m\u001b[1;33m(\u001b[0m\u001b[0minput\u001b[0m\u001b[1;33m(\u001b[0m\u001b[1;34m'Enter the number of years: '\u001b[0m\u001b[1;33m)\u001b[0m\u001b[1;33m)\u001b[0m\u001b[1;33m\u001b[0m\u001b[0m\n",
      "\u001b[1;31mAttributeError\u001b[0m: 'list' object attribute 'append' is read-only"
     ]
    }
   ],
   "source": [
    "\n",
    "x = 0\n",
    "P = []\n",
    "i = []\n",
    "t = []\n",
    "stop = False\n",
    "\n",
    "print('Welcome to Tensor Thyme computing simple interest')\n",
    "\n",
    "\n",
    "while stop != True:\n",
    "    \n",
    "    P.append = int(input('Enter the initial amount: '))\n",
    "    i.append = float(input('Enter the interest amount: '))\n",
    "    t.append = int(input('Enter the number of years: '))\n",
    "    \n",
    "    SI = P*(1 + (R/100)*T)\n",
    "    print(\"Interest is\", I,\"dollars\")\n",
    "    \n",
    "    if P[0] != 0:\n",
    "        stop = True\n",
    "    \n",
    "    x = x + P[-1] + I\n",
    "    \n",
    "    "
   ]
  },
  {
   "cell_type": "code",
   "execution_count": 56,
   "metadata": {},
   "outputs": [
    {
     "name": "stdout",
     "output_type": "stream",
     "text": [
      "Enter the initial amount: 1500\n",
      "Enter the interest amount: 4.3\n",
      "Enter the number of years: 4\n",
      "after 4 years at 4.3 , the investment will\n",
      "be worth $ 1758.0\n"
     ]
    }
   ],
   "source": [
    "# Python Program to Calculate Simple Interest using function\n",
    "\n",
    "print('Welcome to Tensor Thyme computing simple interest')\n",
    "\n",
    "def simple_interest(p,r,t): # with a created function 'simple_interest' \n",
    "    SI = P*(1 + (R/100)*T)\n",
    "    return SI\n",
    "\n",
    "P=float(input('Enter the initial amount: '))\n",
    "R=float(input('Enter the interest amount: '))\n",
    "T=int(input('Enter the number of years: '))\n",
    "\n",
    "SI=simple_interest(principle,time,rate)\n",
    "print('after', T, 'years at', R, ', the investment will')\n",
    "print(\"be worth $\", SI)\n"
   ]
  },
  {
   "cell_type": "code",
   "execution_count": 2,
   "metadata": {},
   "outputs": [
    {
     "name": "stdout",
     "output_type": "stream",
     "text": [
      "The length of side a = 3\n",
      "The length of side b = 4\n",
      "The length of side c = 5\n",
      "This is a scalene triangle.\n"
     ]
    }
   ],
   "source": [
    "# Scalene triangle: All sides have different lengths.\n",
    "# Isosceles triangle: Two sides have the same length.\n",
    "# Equilateral triangle: All sides are equal.\n",
    "\n",
    "a = int(input(\"The length of side a = \"))\n",
    "b = int(input(\"The length of side b = \"))\n",
    "c = int(input(\"The length of side c = \"))\n",
    "\n",
    "if a != b and b != c and a != c:\n",
    "    print(\"This is a scalene triangle.\")\n",
    "elif a == b and b == c:\n",
    "    print(\"This is an equilateral triangle.\")\n",
    "else:\n",
    "    print(\"This is a isosceles triangle.\")"
   ]
  },
  {
   "cell_type": "code",
   "execution_count": null,
   "metadata": {},
   "outputs": [],
   "source": []
  }
 ],
 "metadata": {
  "kernelspec": {
   "display_name": "Python 3",
   "language": "python",
   "name": "python3"
  },
  "language_info": {
   "codemirror_mode": {
    "name": "ipython",
    "version": 3
   },
   "file_extension": ".py",
   "mimetype": "text/x-python",
   "name": "python",
   "nbconvert_exporter": "python",
   "pygments_lexer": "ipython3",
   "version": "3.6.7"
  }
 },
 "nbformat": 4,
 "nbformat_minor": 2
}
