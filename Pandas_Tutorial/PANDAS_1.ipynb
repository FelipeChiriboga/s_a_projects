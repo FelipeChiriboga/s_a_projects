{
 "cells": [
  {
   "cell_type": "markdown",
   "metadata": {},
   "source": [
    "# Selecting Rows and Columns"
   ]
  },
  {
   "cell_type": "code",
   "execution_count": 14,
   "metadata": {},
   "outputs": [
    {
     "ename": "SyntaxError",
     "evalue": "invalid syntax (<ipython-input-14-bcefc4afc249>, line 11)",
     "output_type": "error",
     "traceback": [
      "\u001b[1;36m  File \u001b[1;32m\"<ipython-input-14-bcefc4afc249>\"\u001b[1;36m, line \u001b[1;32m11\u001b[0m\n\u001b[1;33m    names/ = ['names', 'gender', 'count']\u001b[0m\n\u001b[1;37m           ^\u001b[0m\n\u001b[1;31mSyntaxError\u001b[0m\u001b[1;31m:\u001b[0m invalid syntax\n"
     ]
    }
   ],
   "source": [
    "#can press \"TAB\" and you get all functions or inside the () + shift\n",
    "    # devdocs.io - python modules to get documentation really useful \n",
    "    \n",
    "\n",
    "import pandas as pd\n",
    "\n",
    "path = 'names/'\n",
    "\n",
    "# /home/spiced/Desktop/babynames/ (absolut comand)\n",
    "pd.read_cvs('names/yob2000.txt',\n",
    "              names/ = ['names', 'gender', 'count']\n",
    "           )\n",
    "\n",
    "# another option is \n",
    "df.set_index('name', inplace=True)\n",
    "\n",
    "df.head(5)"
   ]
  },
  {
   "cell_type": "code",
   "execution_count": null,
   "metadata": {},
   "outputs": [],
   "source": []
  },
  {
   "cell_type": "code",
   "execution_count": null,
   "metadata": {},
   "outputs": [],
   "source": [
    "# to get information from the data yob2000\n",
    "\n",
    "df.loc[['Nicolas', 'Paul', 'Helena', 'Tom']]"
   ]
  },
  {
   "cell_type": "code",
   "execution_count": null,
   "metadata": {},
   "outputs": [],
   "source": [
    "# Check if there are more than a number: \n",
    "\n",
    "df[df['count'] > 1000]"
   ]
  },
  {
   "cell_type": "code",
   "execution_count": null,
   "metadata": {},
   "outputs": [],
   "source": [
    "one_two = df[df['count'].between(1000, 2000)]\n",
    "one_two.shape"
   ]
  },
  {
   "cell_type": "code",
   "execution_count": null,
   "metadata": {},
   "outputs": [],
   "source": [
    "freq_boys = df[(df['count'] > 1000) & (df['gender']==)\n",
    "freq_boys.shape"
   ]
  },
  {
   "cell_type": "code",
   "execution_count": null,
   "metadata": {},
   "outputs": [],
   "source": [
    "b = df['gender'] != 'F'\n",
    "b.head()"
   ]
  },
  {
   "cell_type": "code",
   "execution_count": null,
   "metadata": {},
   "outputs": [],
   "source": [
    "\n",
    "df.dropna()"
   ]
  },
  {
   "cell_type": "code",
   "execution_count": null,
   "metadata": {},
   "outputs": [],
   "source": [
    "\n",
    "def initial(s):\n",
    "    returns[0]"
   ]
  },
  {
   "cell_type": "code",
   "execution_count": null,
   "metadata": {},
   "outputs": [],
   "source": [
    "print(initial)"
   ]
  },
  {
   "cell_type": "code",
   "execution_count": null,
   "metadata": {},
   "outputs": [],
   "source": [
    "my_functions = [initial, pd.DataFrame, print, zip]"
   ]
  },
  {
   "cell_type": "code",
   "execution_count": null,
   "metadata": {},
   "outputs": [],
   "source": [
    "df['initial'] = df['name'].apply(initial)\n",
    "df.set"
   ]
  },
  {
   "cell_type": "code",
   "execution_count": null,
   "metadata": {},
   "outputs": [],
   "source": [
    "df.groupby('initial') ['count'].sum().plot.bar"
   ]
  },
  {
   "cell_type": "code",
   "execution_count": null,
   "metadata": {},
   "outputs": [],
   "source": [
    "ini = df.groupby(['gender', 'initial'])['count'].sum()\n",
    "topchars = ini.sort_values(ascending=False).head(10)\n",
    "topchars.plot.bar()"
   ]
  },
  {
   "cell_type": "code",
   "execution_count": null,
   "metadata": {},
   "outputs": [],
   "source": [
    "%matplotlib inline"
   ]
  },
  {
   "cell_type": "code",
   "execution_count": null,
   "metadata": {},
   "outputs": [],
   "source": [
    "\n",
    "birthnames = []\n",
    "a = 1880\n",
    "while a <= 2017: # check errors for the year\n",
    "    fl = str(\"yob\" + str(a) + \".txt\")\n",
    "    bth = pd.read_csv(fl, names=['sex','birthcnt']) #probably need to add the name column\n",
    "    bth['year'] = a \n",
    "    birthnames.append(bth)\n",
    "    a = a + 1\n",
    "    \n",
    "birthnames = pd.concat(birthnames)\n",
    "birthnames"
   ]
  },
  {
   "cell_type": "code",
   "execution_count": null,
   "metadata": {},
   "outputs": [],
   "source": []
  }
 ],
 "metadata": {
  "kernelspec": {
   "display_name": "Python 3",
   "language": "python",
   "name": "python3"
  },
  "language_info": {
   "codemirror_mode": {
    "name": "ipython",
    "version": 3
   },
   "file_extension": ".py",
   "mimetype": "text/x-python",
   "name": "python",
   "nbconvert_exporter": "python",
   "pygments_lexer": "ipython3",
   "version": "3.6.5"
  }
 },
 "nbformat": 4,
 "nbformat_minor": 2
}
