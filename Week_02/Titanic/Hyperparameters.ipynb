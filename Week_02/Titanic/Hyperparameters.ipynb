{
 "cells": [
  {
   "cell_type": "code",
   "execution_count": 1,
   "metadata": {},
   "outputs": [],
   "source": [
    "from sklearn.ensemble import RandomForestClassifier"
   ]
  },
  {
   "cell_type": "code",
   "execution_count": 2,
   "metadata": {},
   "outputs": [],
   "source": [
    "m = RandomForestClassifier(max_depth=3)"
   ]
  },
  {
   "cell_type": "code",
   "execution_count": 3,
   "metadata": {},
   "outputs": [],
   "source": [
    "m = RandomForestClassifier(max_depth=3, n_estimators=10)"
   ]
  },
  {
   "cell_type": "code",
   "execution_count": 4,
   "metadata": {},
   "outputs": [],
   "source": [
    "depths = [2, 3, 4, 5]"
   ]
  },
  {
   "cell_type": "code",
   "execution_count": 5,
   "metadata": {},
   "outputs": [],
   "source": [
    "trees = [5, 7, 10, 15, 100]"
   ]
  },
  {
   "cell_type": "code",
   "execution_count": 6,
   "metadata": {},
   "outputs": [],
   "source": [
    "from sklearn.datasets import load_iris"
   ]
  },
  {
   "cell_type": "code",
   "execution_count": 7,
   "metadata": {},
   "outputs": [],
   "source": [
    "X, y = load_iris(return_X_y=True)"
   ]
  },
  {
   "cell_type": "code",
   "execution_count": 8,
   "metadata": {},
   "outputs": [],
   "source": [
    "best_score = 0.0"
   ]
  },
  {
   "cell_type": "code",
   "execution_count": 9,
   "metadata": {},
   "outputs": [],
   "source": [
    "best_params = None"
   ]
  },
  {
   "cell_type": "code",
   "execution_count": 12,
   "metadata": {
    "scrolled": true
   },
   "outputs": [
    {
     "name": "stdout",
     "output_type": "stream",
     "text": [
      "    2     5   0.97\n",
      "    2     7   0.96\n",
      "    2    10   0.95\n",
      "    2    15   0.96\n",
      "    2   100   0.96\n",
      "    3     5   0.98\n",
      "    3     7   0.97\n",
      "    3    10   0.97\n",
      "    3    15   0.97\n",
      "    3   100   0.97\n",
      "    4     5   0.98\n",
      "    4     7   0.98\n",
      "    4    10   0.98\n",
      "    4    15   0.99\n",
      "    4   100   0.99\n",
      "    5     5    1.0\n",
      "    5     7   0.98\n",
      "    5    10   0.99\n",
      "    5    15   0.99\n",
      "    5   100    1.0\n"
     ]
    }
   ],
   "source": [
    "for d in depths: \n",
    "    for t in trees:\n",
    "        m = RandomForestClassifier(max_depth=d, n_estimators=t)\n",
    "        m.fit(X,y)\n",
    "        score = m.score(X, y)\n",
    "        if score > best_score:\n",
    "            best_score = score\n",
    "            best_params = d, t\n",
    "        print(f\"{d:5} {t:5} {score:6.2}\")\n",
    "        "
   ]
  },
  {
   "cell_type": "code",
   "execution_count": 13,
   "metadata": {},
   "outputs": [
    {
     "name": "stdout",
     "output_type": "stream",
     "text": [
      "    2     5               0.96\n",
      "    2     7             0.9733\n",
      "    2    10               0.96\n",
      "    2    15             0.9733\n",
      "    2   100             0.9667\n",
      "    3     5               0.96\n",
      "    3     7               0.96\n",
      "    3    10             0.9733\n",
      "    3    15               0.98\n",
      "    3   100             0.9733\n",
      "    4     5               0.98\n",
      "    4     7             0.9867\n",
      "    4    10               0.98\n",
      "    4    15               0.98\n",
      "    4   100             0.9867\n",
      "    5     5               0.98\n",
      "    5     7             0.9933\n",
      "    5    10             0.9933\n",
      "    5    15                1.0\n",
      "    5   100                1.0\n"
     ]
    }
   ],
   "source": [
    "for d in depths: \n",
    "    for t in trees:\n",
    "        m = RandomForestClassifier(max_depth=d, n_estimators=t)\n",
    "        m.fit(X,y)\n",
    "        score = m.score(X, y)\n",
    "        if score > best_score:\n",
    "            best_score = score\n",
    "            best_params = d, t\n",
    "        print(f\"{d:5} {t:5} {score:18.4}\")"
   ]
  },
  {
   "cell_type": "code",
   "execution_count": 14,
   "metadata": {},
   "outputs": [
    {
     "name": "stdout",
     "output_type": "stream",
     "text": [
      "    2     5    0.960\n",
      "    2     7    0.953\n",
      "    2    10    0.967\n",
      "    2    15    0.947\n",
      "    2   100    0.960\n",
      "    3     5    0.973\n",
      "    3     7    0.973\n",
      "    3    10    0.980\n",
      "    3    15    0.960\n",
      "    3   100    0.973\n",
      "    4     5    0.980\n",
      "    4     7    0.967\n",
      "    4    10    0.993\n",
      "    4    15    0.980\n",
      "    4   100    0.973\n",
      "    5     5    0.987\n",
      "    5     7    0.993\n",
      "    5    10    0.987\n",
      "    5    15    1.000\n",
      "    5   100    1.000\n"
     ]
    }
   ],
   "source": [
    "for d in depths: \n",
    "    for t in trees:\n",
    "        m = RandomForestClassifier(max_depth=d, n_estimators=t)\n",
    "        m.fit(X,y)\n",
    "        score = m.score(X, y)\n",
    "        if score > best_score:\n",
    "            best_score = score\n",
    "            best_params = d, t\n",
    "        print(f\"{d:5} {t:5} {score:8.3f}\")"
   ]
  },
  {
   "cell_type": "code",
   "execution_count": 15,
   "metadata": {},
   "outputs": [
    {
     "data": {
      "text/plain": [
       "1.0"
      ]
     },
     "execution_count": 15,
     "metadata": {},
     "output_type": "execute_result"
    }
   ],
   "source": [
    "best_score"
   ]
  },
  {
   "cell_type": "code",
   "execution_count": 16,
   "metadata": {},
   "outputs": [
    {
     "data": {
      "text/plain": [
       "(5, 5)"
      ]
     },
     "execution_count": 16,
     "metadata": {},
     "output_type": "execute_result"
    }
   ],
   "source": [
    "best_params"
   ]
  },
  {
   "cell_type": "code",
   "execution_count": 17,
   "metadata": {},
   "outputs": [],
   "source": [
    "from sklearn.model_selection import cross_val_score"
   ]
  },
  {
   "cell_type": "code",
   "execution_count": 26,
   "metadata": {},
   "outputs": [
    {
     "name": "stdout",
     "output_type": "stream",
     "text": [
      "    2     5    0.940\n",
      "    2     7    0.940\n",
      "    2    10    0.953\n",
      "    2    15    0.960\n",
      "    2   100    0.947\n",
      "    3     5    0.947\n",
      "    3     7    0.960\n",
      "    3    10    0.960\n",
      "    3    15    0.960\n",
      "    3   100    0.953\n",
      "    4     5    0.953\n",
      "    4     7    0.960\n",
      "    4    10    0.947\n",
      "    4    15    0.960\n",
      "    4   100    0.960\n",
      "    5     5    0.960\n",
      "    5     7    0.967\n",
      "    5    10    0.947\n",
      "    5    15    0.947\n",
      "    5   100    0.953\n"
     ]
    }
   ],
   "source": [
    "# cross validation\n",
    "\n",
    "best_score = 0.0\n",
    "best_params = None\n",
    "\n",
    "for d in depths: \n",
    "    for t in trees:\n",
    "        m = RandomForestClassifier(max_depth=d, n_estimators=t)\n",
    "        m.fit(X,y)\n",
    "        \n",
    "        scores = cross_val_score(X=X, y=y, estimator=m, cv=5)\n",
    "        score = scores.mean()\n",
    "        if score > best_score:\n",
    "            best_score = score\n",
    "            best_params = d, t\n",
    "        print(f\"{d:5} {t:5} {score:8.3f}\")"
   ]
  },
  {
   "cell_type": "code",
   "execution_count": 27,
   "metadata": {},
   "outputs": [
    {
     "data": {
      "text/plain": [
       "0.9666666666666668"
      ]
     },
     "execution_count": 27,
     "metadata": {},
     "output_type": "execute_result"
    }
   ],
   "source": [
    "best_score"
   ]
  },
  {
   "cell_type": "code",
   "execution_count": 28,
   "metadata": {},
   "outputs": [
    {
     "data": {
      "text/plain": [
       "(5, 7)"
      ]
     },
     "execution_count": 28,
     "metadata": {},
     "output_type": "execute_result"
    }
   ],
   "source": [
    "best_params"
   ]
  },
  {
   "cell_type": "code",
   "execution_count": 29,
   "metadata": {},
   "outputs": [
    {
     "data": {
      "text/plain": [
       "[5, 7, 10, 15, 100]"
      ]
     },
     "execution_count": 29,
     "metadata": {},
     "output_type": "execute_result"
    }
   ],
   "source": [
    "trees"
   ]
  },
  {
   "cell_type": "code",
   "execution_count": 30,
   "metadata": {},
   "outputs": [
    {
     "data": {
      "text/plain": [
       "[2, 3, 4, 5]"
      ]
     },
     "execution_count": 30,
     "metadata": {},
     "output_type": "execute_result"
    }
   ],
   "source": [
    "depths"
   ]
  },
  {
   "cell_type": "code",
   "execution_count": 32,
   "metadata": {},
   "outputs": [],
   "source": [
    "#### IMPORTANT !!!! \n",
    "from sklearn.model_selection import GridSearchCV"
   ]
  },
  {
   "cell_type": "code",
   "execution_count": 39,
   "metadata": {},
   "outputs": [],
   "source": [
    "\n",
    "grid = GridSearchCV(m, \n",
    "        param_grid = {'n_estimators': trees, 'max_depth': depths},\n",
    "        scoring='accuracy', \n",
    "        n_jobs=2,\n",
    "        cv=5\n",
    "        )"
   ]
  },
  {
   "cell_type": "code",
   "execution_count": 40,
   "metadata": {},
   "outputs": [
    {
     "data": {
      "text/plain": [
       "GridSearchCV(cv=5, error_score='raise',\n",
       "       estimator=RandomForestClassifier(bootstrap=True, class_weight=None, criterion='gini',\n",
       "            max_depth=5, max_features='auto', max_leaf_nodes=None,\n",
       "            min_impurity_decrease=0.0, min_impurity_split=None,\n",
       "            min_samples_leaf=1, min_samples_split=2,\n",
       "            min_weight_fraction_leaf=0.0, n_estimators=100, n_jobs=1,\n",
       "            oob_score=False, random_state=None, verbose=0,\n",
       "            warm_start=False),\n",
       "       fit_params=None, iid=True, n_jobs=2,\n",
       "       param_grid={'n_estimators': [5, 7, 10, 15, 100], 'max_depth': [2, 3, 4, 5]},\n",
       "       pre_dispatch='2*n_jobs', refit=True, return_train_score='warn',\n",
       "       scoring='accuracy', verbose=0)"
      ]
     },
     "execution_count": 40,
     "metadata": {},
     "output_type": "execute_result"
    }
   ],
   "source": [
    "grid.fit(X, y)"
   ]
  },
  {
   "cell_type": "code",
   "execution_count": 41,
   "metadata": {},
   "outputs": [
    {
     "data": {
      "text/plain": [
       "0.9666666666666667"
      ]
     },
     "execution_count": 41,
     "metadata": {},
     "output_type": "execute_result"
    }
   ],
   "source": [
    "grid.best_score_"
   ]
  },
  {
   "cell_type": "raw",
   "metadata": {},
   "source": [
    "grid.best_params_"
   ]
  },
  {
   "cell_type": "code",
   "execution_count": 42,
   "metadata": {},
   "outputs": [
    {
     "data": {
      "text/plain": [
       "RandomForestClassifier(bootstrap=True, class_weight=None, criterion='gini',\n",
       "            max_depth=4, max_features='auto', max_leaf_nodes=None,\n",
       "            min_impurity_decrease=0.0, min_impurity_split=None,\n",
       "            min_samples_leaf=1, min_samples_split=2,\n",
       "            min_weight_fraction_leaf=0.0, n_estimators=100, n_jobs=1,\n",
       "            oob_score=False, random_state=None, verbose=0,\n",
       "            warm_start=False)"
      ]
     },
     "execution_count": 42,
     "metadata": {},
     "output_type": "execute_result"
    }
   ],
   "source": [
    "grid.best_estimator_"
   ]
  },
  {
   "cell_type": "code",
   "execution_count": 45,
   "metadata": {},
   "outputs": [],
   "source": [
    "from sklearn.linear_model import LogisticRegression\n"
   ]
  },
  {
   "cell_type": "code",
   "execution_count": 49,
   "metadata": {},
   "outputs": [],
   "source": [
    "m2 = LogisticRegression()"
   ]
  },
  {
   "cell_type": "code",
   "execution_count": 52,
   "metadata": {},
   "outputs": [],
   "source": [
    "\n",
    "grid = GridSearchCV(m2, \n",
    "        param_grid = {'C': [0.1, 1.0, 10.0, 100.0, 10000.0, 10000000.0]},\n",
    "        scoring='accuracy', \n",
    "        n_jobs=2,\n",
    "        cv=5\n",
    "        )"
   ]
  },
  {
   "cell_type": "code",
   "execution_count": 53,
   "metadata": {},
   "outputs": [
    {
     "data": {
      "text/plain": [
       "GridSearchCV(cv=5, error_score='raise',\n",
       "       estimator=LogisticRegression(C=1.0, class_weight=None, dual=False, fit_intercept=True,\n",
       "          intercept_scaling=1, max_iter=100, multi_class='ovr', n_jobs=1,\n",
       "          penalty='l2', random_state=None, solver='liblinear', tol=0.0001,\n",
       "          verbose=0, warm_start=False),\n",
       "       fit_params=None, iid=True, n_jobs=2,\n",
       "       param_grid={'C': [0.1, 1.0, 10.0, 100.0, 10000.0, 10000000.0]},\n",
       "       pre_dispatch='2*n_jobs', refit=True, return_train_score='warn',\n",
       "       scoring='accuracy', verbose=0)"
      ]
     },
     "execution_count": 53,
     "metadata": {},
     "output_type": "execute_result"
    }
   ],
   "source": [
    "grid.fit(X, y)"
   ]
  },
  {
   "cell_type": "code",
   "execution_count": 54,
   "metadata": {},
   "outputs": [
    {
     "data": {
      "text/plain": [
       "({'C': 100.0}, 0.98)"
      ]
     },
     "execution_count": 54,
     "metadata": {},
     "output_type": "execute_result"
    }
   ],
   "source": [
    "grid.best_params_, grid.best_score_"
   ]
  },
  {
   "cell_type": "code",
   "execution_count": null,
   "metadata": {},
   "outputs": [],
   "source": []
  }
 ],
 "metadata": {
  "kernelspec": {
   "display_name": "Python 3",
   "language": "python",
   "name": "python3"
  },
  "language_info": {
   "codemirror_mode": {
    "name": "ipython",
    "version": 3
   },
   "file_extension": ".py",
   "mimetype": "text/x-python",
   "name": "python",
   "nbconvert_exporter": "python",
   "pygments_lexer": "ipython3",
   "version": "3.6.7"
  }
 },
 "nbformat": 4,
 "nbformat_minor": 2
}
