{
 "cells": [
  {
   "cell_type": "code",
   "execution_count": 26,
   "metadata": {},
   "outputs": [
    {
     "name": "stdout",
     "output_type": "stream",
     "text": [
      "[0, 1, 1, 2, 3, 5, 8, 13, 21, 34, 55, 89, 144, 233, 377, 610, 987, 1597, 2584, 4181]\n"
     ]
    }
   ],
   "source": [
    "'''\n",
    "Easy: implement the Fibonacci series and calculate the first 20 elements\n",
    "'''\n",
    "# VERSION ONE \n",
    "\n",
    "list = list(range(20))\n",
    "\n",
    "fib_list = []\n",
    "\n",
    "for i in list: \n",
    "    if i == 0:\n",
    "        fib_list.append(0)\n",
    "    elif i == 1:\n",
    "        fib_list.append(1)\n",
    "    else:\n",
    "        fib_list.append(fib_list[-2] + fib_list[-1])\n",
    "        \n",
    "print(fib_list)\n",
    "    \n",
    "    "
   ]
  },
  {
   "cell_type": "code",
   "execution_count": 27,
   "metadata": {},
   "outputs": [
    {
     "name": "stdout",
     "output_type": "stream",
     "text": [
      "[0, 1, 1, 2, 3, 5, 8, 13, 21, 34, 55, 89, 144, 233, 377, 610, 987, 1597, 2584, 4181]\n"
     ]
    }
   ],
   "source": [
    "# VERSION TWO\n",
    "\n",
    "fib_list = []\n",
    "\n",
    "for i in range(0, 20): \n",
    "    if i == 0:\n",
    "        fib_list.append(0)\n",
    "    elif i == 1:\n",
    "        fib_list.append(1)\n",
    "    else:\n",
    "        fib_list.append(fib_list[-2] + fib_list[-1])\n",
    "        \n",
    "print(fib_list)\n",
    "    "
   ]
  },
  {
   "cell_type": "code",
   "execution_count": 44,
   "metadata": {},
   "outputs": [],
   "source": [
    "\n",
    "def fibol(n):\n",
    "    f = [0, 1]\n",
    "    for i in range [1 + n+1]:\n",
    "        f.append(sum(f[l:i]))\n",
    "    return f[2:]\n",
    "\n",
    "\n"
   ]
  },
  {
   "cell_type": "code",
   "execution_count": 15,
   "metadata": {},
   "outputs": [],
   "source": [
    "\n",
    "def fibol2(n):\n",
    "    f = [0, 1]\n",
    "    while len(f) < n:\n",
    "        f.append(f[-2] + f[-1])\n",
    "    return f \n",
    "    "
   ]
  },
  {
   "cell_type": "code",
   "execution_count": 19,
   "metadata": {},
   "outputs": [],
   "source": [
    "\n",
    "def fibo3(n):\n",
    "    a = 0\n",
    "    b = 1\n",
    "    for i in range (n):\n",
    "        print(a, end=' ')\n",
    "        a, b = b, a + b\n",
    "        \n"
   ]
  },
  {
   "cell_type": "code",
   "execution_count": 23,
   "metadata": {},
   "outputs": [],
   "source": [
    "\n",
    "def fibo4(n):\n",
    "    if n < 2:\n",
    "        return n\n",
    "    else:\n",
    "        return fibo4(n-1) + fibo4(n-2)\n",
    "\n"
   ]
  },
  {
   "cell_type": "code",
   "execution_count": null,
   "metadata": {},
   "outputs": [],
   "source": []
  }
 ],
 "metadata": {
  "kernelspec": {
   "display_name": "Python 3",
   "language": "python",
   "name": "python3"
  },
  "language_info": {
   "codemirror_mode": {
    "name": "ipython",
    "version": 3
   },
   "file_extension": ".py",
   "mimetype": "text/x-python",
   "name": "python",
   "nbconvert_exporter": "python",
   "pygments_lexer": "ipython3",
   "version": "3.6.7"
  }
 },
 "nbformat": 4,
 "nbformat_minor": 2
}
