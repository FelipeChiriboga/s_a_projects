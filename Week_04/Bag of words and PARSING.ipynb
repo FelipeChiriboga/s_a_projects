{
 "cells": [
  {
   "cell_type": "markdown",
   "metadata": {},
   "source": [
    "# Bag of words = counting words"
   ]
  },
  {
   "cell_type": "code",
   "execution_count": 11,
   "metadata": {},
   "outputs": [
    {
     "data": {
      "text/plain": [
       "'\\n# sparse matrix -> a table where most values are zero\\n# here the long format is more efficient\\ndata = [[1.0, np.NaN], [np.NaN, 4.0]]\\n\\ndf = pd.DataFrame(data)\\ndf.stack()\\n\\n# lets count words\\ns1 = \"She loves you yeah, yeah, yeah!\"\\ns2 = \"I just call to say: \\'I love you!\\'\"\\n\\n#\\n# tokenization\\n#\\n\\n# remove special characters\\nt1 = s1.replace(\"!\", \"\").replace(\",\",\"\")\\n\\nSPECIAL_CHARS = \"\"\"!\\'\",?:\"\"\"\\nt2 = s2\\nfor spc in SPECIAL_CHARS:\\n    t2 = t2.replace(spc, \"\")\\n\\n# remove case\\nt1 = t1.lower()\\nt2 = t2.lower()\\n\\n# stemming -> for proper stemming, use NLTK or Spacy\\nt1 = t1.replace(\"loves\", \"love\")\\n\\ntoken1 = t1.split()\\ntoken2 = t2.split()\\n\\n# remove stop words\\nSTOPWORDS = [\"to\", \"just\", \"is\"]\\n\\n# slow\\nfor stop in STOPWORDS:\\n    if stop in token2:\\n        token2.remove(stop)\\n\\n# Python set + comprehension -> much faster\\nSTOPWORDS = {\"to\", \"just\", \"is\"}\\ntoken2 = [word for word in token2 if word not in STOPWORDS]\\n\\n#\\n# count words (bag of words)\\n#\\n\\n# with pandas\\ndata = {\\'beatles\\': token1, \\'stevie\\': token2}\\ndf = pd.DataFrame(data)\\n\\nc1 = df[\\'beatles\\'].value_counts()\\nc2 = df[\\'stevie\\'].value_counts()\\n\\ndf = pd.DataFrame({\\'beatles\\': c1, \\'stevie\\': c2})\\ndf.stack()\\n\\n# with a Python dictionary\\nd = {}\\nfor word in token1:\\n    if word not in d:\\n        d[word] = 1\\n    else:\\n        d[word] += 1\\n\\n# with a Counter dict it is much easier\\nfrom collections import Counter\\nd = Counter(token1)\\nd.most_common(3)\\n\\n\\n#\\n# parsing lyrics\\n#\\nhtml = open(\\'money40.html\\').read()\\nlen(html)\\n\\n# with string functions\\nbegin = \"Sorry about that. -->\"\\nend = \"MxM banner\"\\nstart = html.find(begin)\\nstop = html.find(end)\\n\\nlyrics1 = html[start:stop]\\n\\n# Problem: .find might return -1 but slicing still works:\\nhtml[-1:-1]\\n\\n# better: with RegEx\\nimport re\\n\\nlyrics = re.findall(\"Sorry about that\\\\. -->(.+)MxM banner\", html, re.DOTALL)\\n# lyrics is a list of strings\\nif len(lyrics) == 1:\\n    lyrics = lyrics[0]\\nelse:\\n    print(\"something went wrong\")\\n\\n# remove special chars and tags\\nl2 = re.sub(\"\\\\.|\\\\,|\\\\?|\\n|<br>\", \" \", lyrics)\\nl2 = re.sub(\"<i>|</i>|\\\\–|<div>|</div>\", \" \", l2)\\nl2 = re.sub(\"\\\\s\", \" \", l2) # replace tabs and newlines\\n\\nl2 = l2.lower()\\ntokens = l2.split()\\nc = Counter(tokens)\\nc.most_common(10)\\n\\n'"
      ]
     },
     "execution_count": 11,
     "metadata": {},
     "output_type": "execute_result"
    }
   ],
   "source": [
    "import numpy as np\n",
    "import pandas as pd\n",
    "\n",
    "'''\n",
    "# sparse matrix -> a table where most values are zero\n",
    "# here the long format is more efficient\n",
    "data = [[1.0, np.NaN], [np.NaN, 4.0]]\n",
    "\n",
    "df = pd.DataFrame(data)\n",
    "df.stack()\n",
    "\n",
    "# lets count words\n",
    "s1 = \"She loves you yeah, yeah, yeah!\"\n",
    "s2 = \"I just call to say: 'I love you!'\"\n",
    "\n",
    "#\n",
    "# tokenization\n",
    "#\n",
    "\n",
    "# remove special characters\n",
    "t1 = s1.replace(\"!\", \"\").replace(\",\",\"\")\n",
    "\n",
    "SPECIAL_CHARS = \"\"\"!'\",?:\"\"\"\n",
    "t2 = s2\n",
    "for spc in SPECIAL_CHARS:\n",
    "    t2 = t2.replace(spc, \"\")\n",
    "\n",
    "# remove case\n",
    "t1 = t1.lower()\n",
    "t2 = t2.lower()\n",
    "\n",
    "# stemming -> for proper stemming, use NLTK or Spacy\n",
    "t1 = t1.replace(\"loves\", \"love\")\n",
    "\n",
    "token1 = t1.split()\n",
    "token2 = t2.split()\n",
    "\n",
    "# remove stop words\n",
    "STOPWORDS = [\"to\", \"just\", \"is\"]\n",
    "\n",
    "# slow\n",
    "for stop in STOPWORDS:\n",
    "    if stop in token2:\n",
    "        token2.remove(stop)\n",
    "\n",
    "# Python set + comprehension -> much faster\n",
    "STOPWORDS = {\"to\", \"just\", \"is\"}\n",
    "token2 = [word for word in token2 if word not in STOPWORDS]\n",
    "\n",
    "#\n",
    "# count words (bag of words)\n",
    "#\n",
    "\n",
    "# with pandas\n",
    "data = {'beatles': token1, 'stevie': token2}\n",
    "df = pd.DataFrame(data)\n",
    "\n",
    "c1 = df['beatles'].value_counts()\n",
    "c2 = df['stevie'].value_counts()\n",
    "\n",
    "df = pd.DataFrame({'beatles': c1, 'stevie': c2})\n",
    "df.stack()\n",
    "\n",
    "# with a Python dictionary\n",
    "d = {}\n",
    "for word in token1:\n",
    "    if word not in d:\n",
    "        d[word] = 1\n",
    "    else:\n",
    "        d[word] += 1\n",
    "\n",
    "# with a Counter dict it is much easier\n",
    "from collections import Counter\n",
    "d = Counter(token1)\n",
    "d.most_common(3)\n",
    "\n",
    "\n",
    "#\n",
    "# parsing lyrics\n",
    "#\n",
    "html = open('money40.html').read()\n",
    "len(html)\n",
    "\n",
    "# with string functions\n",
    "begin = \"Sorry about that. -->\"\n",
    "end = \"MxM banner\"\n",
    "start = html.find(begin)\n",
    "stop = html.find(end)\n",
    "\n",
    "lyrics1 = html[start:stop]\n",
    "\n",
    "# Problem: .find might return -1 but slicing still works:\n",
    "html[-1:-1]\n",
    "\n",
    "# better: with RegEx\n",
    "import re\n",
    "\n",
    "lyrics = re.findall(\"Sorry about that\\. -->(.+)MxM banner\", html, re.DOTALL)\n",
    "# lyrics is a list of strings\n",
    "if len(lyrics) == 1:\n",
    "    lyrics = lyrics[0]\n",
    "else:\n",
    "    print(\"something went wrong\")\n",
    "\n",
    "# remove special chars and tags\n",
    "l2 = re.sub(\"\\.|\\,|\\?|\\n|<br>\", \" \", lyrics)\n",
    "l2 = re.sub(\"<i>|</i>|\\–|<div>|</div>\", \" \", l2)\n",
    "l2 = re.sub(\"\\s\", \" \", l2) # replace tabs and newlines\n",
    "\n",
    "l2 = l2.lower()\n",
    "tokens = l2.split()\n",
    "c = Counter(tokens)\n",
    "c.most_common(10)\n",
    "\n",
    "'''"
   ]
  },
  {
   "cell_type": "code",
   "execution_count": 13,
   "metadata": {
    "scrolled": true
   },
   "outputs": [
    {
     "data": {
      "text/html": [
       "<div>\n",
       "<style scoped>\n",
       "    .dataframe tbody tr th:only-of-type {\n",
       "        vertical-align: middle;\n",
       "    }\n",
       "\n",
       "    .dataframe tbody tr th {\n",
       "        vertical-align: top;\n",
       "    }\n",
       "\n",
       "    .dataframe thead th {\n",
       "        text-align: right;\n",
       "    }\n",
       "</style>\n",
       "<table border=\"1\" class=\"dataframe\">\n",
       "  <thead>\n",
       "    <tr style=\"text-align: right;\">\n",
       "      <th></th>\n",
       "      <th>0</th>\n",
       "      <th>1</th>\n",
       "    </tr>\n",
       "  </thead>\n",
       "  <tbody>\n",
       "    <tr>\n",
       "      <th>0</th>\n",
       "      <td>1.0</td>\n",
       "      <td>NaN</td>\n",
       "    </tr>\n",
       "    <tr>\n",
       "      <th>1</th>\n",
       "      <td>NaN</td>\n",
       "      <td>4.0</td>\n",
       "    </tr>\n",
       "  </tbody>\n",
       "</table>\n",
       "</div>"
      ],
      "text/plain": [
       "     0    1\n",
       "0  1.0  NaN\n",
       "1  NaN  4.0"
      ]
     },
     "execution_count": 13,
     "metadata": {},
     "output_type": "execute_result"
    }
   ],
   "source": [
    "# sparse matrix -> a table where most values are zero\n",
    "# here the long format is more efficient\n",
    "\n",
    "data = [[1.0, np.NaN], [np.NaN, 4.0]]\n",
    "\n",
    "df = pd.DataFrame(data)\n",
    "df"
   ]
  },
  {
   "cell_type": "code",
   "execution_count": 14,
   "metadata": {},
   "outputs": [
    {
     "data": {
      "text/plain": [
       "0  0    1.0\n",
       "1  1    4.0\n",
       "dtype: float64"
      ]
     },
     "execution_count": 14,
     "metadata": {},
     "output_type": "execute_result"
    }
   ],
   "source": [
    "df.stack()"
   ]
  },
  {
   "cell_type": "code",
   "execution_count": 15,
   "metadata": {},
   "outputs": [],
   "source": [
    "# lets count words\n",
    "s1 = \"She loves you yeah, yeah, yeah!\"\n",
    "s2 = \"I just call to say: 'I love you!'\"\n"
   ]
  },
  {
   "cell_type": "code",
   "execution_count": null,
   "metadata": {},
   "outputs": [],
   "source": [
    "#\n",
    "# tokenization\n",
    "#"
   ]
  },
  {
   "cell_type": "code",
   "execution_count": 17,
   "metadata": {},
   "outputs": [
    {
     "data": {
      "text/plain": [
       "'She loves you yeah yeah yeah'"
      ]
     },
     "execution_count": 17,
     "metadata": {},
     "output_type": "execute_result"
    }
   ],
   "source": [
    "# first possibility\n",
    "\n",
    "# remove special characters\n",
    "t1 = s1.replace(\"!\", \"\").replace(\",\",\"\")\n",
    "t1"
   ]
  },
  {
   "cell_type": "code",
   "execution_count": 19,
   "metadata": {},
   "outputs": [
    {
     "data": {
      "text/plain": [
       "'I just call to say I love you'"
      ]
     },
     "execution_count": 19,
     "metadata": {},
     "output_type": "execute_result"
    }
   ],
   "source": [
    "# Second possibility\n",
    "\n",
    "SPECIAL_CHARS = \"\"\"!'\",?:\"\"\"\n",
    "t2 = s2\n",
    "for spc in SPECIAL_CHARS:\n",
    "    t2 = t2.replace(spc, \"\")\n",
    "\n",
    "t2    "
   ]
  },
  {
   "cell_type": "code",
   "execution_count": 22,
   "metadata": {},
   "outputs": [
    {
     "data": {
      "text/plain": [
       "'she loves you yeah yeah yeah'"
      ]
     },
     "execution_count": 22,
     "metadata": {},
     "output_type": "execute_result"
    }
   ],
   "source": [
    "# remove case\n",
    "t1 = t1.lower()\n",
    "t1"
   ]
  },
  {
   "cell_type": "code",
   "execution_count": 24,
   "metadata": {},
   "outputs": [
    {
     "data": {
      "text/plain": [
       "'i just call to say i love you'"
      ]
     },
     "execution_count": 24,
     "metadata": {},
     "output_type": "execute_result"
    }
   ],
   "source": [
    "# remove case\n",
    "t2 = t2.lower()\n",
    "t2"
   ]
  },
  {
   "cell_type": "code",
   "execution_count": 25,
   "metadata": {},
   "outputs": [
    {
     "data": {
      "text/plain": [
       "'she love you yeah yeah yeah'"
      ]
     },
     "execution_count": 25,
     "metadata": {},
     "output_type": "execute_result"
    }
   ],
   "source": [
    "# stemming -> for proper stemming, use NLTK or Spacy\n",
    "\n",
    "t1 = t1.replace(\"loves\", \"love\")\n",
    "t1"
   ]
  },
  {
   "cell_type": "code",
   "execution_count": 27,
   "metadata": {},
   "outputs": [
    {
     "data": {
      "text/plain": [
       "['she', 'love', 'you', 'yeah', 'yeah', 'yeah']"
      ]
     },
     "execution_count": 27,
     "metadata": {},
     "output_type": "execute_result"
    }
   ],
   "source": [
    "token1 = t1.split()\n",
    "token1"
   ]
  },
  {
   "cell_type": "code",
   "execution_count": 37,
   "metadata": {},
   "outputs": [
    {
     "data": {
      "text/plain": [
       "['i', 'just', 'call', 'to', 'say', 'i', 'love', 'you']"
      ]
     },
     "execution_count": 37,
     "metadata": {},
     "output_type": "execute_result"
    }
   ],
   "source": [
    "token2 = t2.split()\n",
    "token2"
   ]
  },
  {
   "cell_type": "code",
   "execution_count": 38,
   "metadata": {},
   "outputs": [],
   "source": [
    "# remove stop words\n",
    "STOPWORDS = [\"to\", \"just\", \"is\"]"
   ]
  },
  {
   "cell_type": "code",
   "execution_count": 39,
   "metadata": {},
   "outputs": [],
   "source": [
    "# slow\n",
    "for stop in STOPWORDS:\n",
    "    if stop in token2:\n",
    "        token2.remove(stop)"
   ]
  },
  {
   "cell_type": "code",
   "execution_count": 41,
   "metadata": {},
   "outputs": [],
   "source": [
    "# Python set + comprehension -> much faster\n",
    "STOPWORDS = {\"to\", \"just\", \"is\"}\n",
    "token2 = [word for word in token2 if word not in STOPWORDS]"
   ]
  },
  {
   "cell_type": "code",
   "execution_count": null,
   "metadata": {},
   "outputs": [],
   "source": [
    "#\n",
    "# count words (bag of words)\n",
    "#"
   ]
  },
  {
   "cell_type": "code",
   "execution_count": 42,
   "metadata": {},
   "outputs": [],
   "source": [
    "# with pandas\n",
    "data = {'beatles': token1, 'stevie': token2}\n",
    "df = pd.DataFrame(data)"
   ]
  },
  {
   "cell_type": "code",
   "execution_count": 43,
   "metadata": {},
   "outputs": [
    {
     "data": {
      "text/plain": [
       "yeah    3\n",
       "love    1\n",
       "you     1\n",
       "she     1\n",
       "Name: beatles, dtype: int64"
      ]
     },
     "execution_count": 43,
     "metadata": {},
     "output_type": "execute_result"
    }
   ],
   "source": [
    "c1 = df['beatles'].value_counts()\n",
    "c1"
   ]
  },
  {
   "cell_type": "code",
   "execution_count": 44,
   "metadata": {},
   "outputs": [
    {
     "data": {
      "text/plain": [
       "i       2\n",
       "call    1\n",
       "love    1\n",
       "say     1\n",
       "you     1\n",
       "Name: stevie, dtype: int64"
      ]
     },
     "execution_count": 44,
     "metadata": {},
     "output_type": "execute_result"
    }
   ],
   "source": [
    "c2 = df['stevie'].value_counts()\n",
    "c2"
   ]
  },
  {
   "cell_type": "code",
   "execution_count": 45,
   "metadata": {},
   "outputs": [
    {
     "data": {
      "text/html": [
       "<div>\n",
       "<style scoped>\n",
       "    .dataframe tbody tr th:only-of-type {\n",
       "        vertical-align: middle;\n",
       "    }\n",
       "\n",
       "    .dataframe tbody tr th {\n",
       "        vertical-align: top;\n",
       "    }\n",
       "\n",
       "    .dataframe thead th {\n",
       "        text-align: right;\n",
       "    }\n",
       "</style>\n",
       "<table border=\"1\" class=\"dataframe\">\n",
       "  <thead>\n",
       "    <tr style=\"text-align: right;\">\n",
       "      <th></th>\n",
       "      <th>beatles</th>\n",
       "      <th>stevie</th>\n",
       "    </tr>\n",
       "  </thead>\n",
       "  <tbody>\n",
       "    <tr>\n",
       "      <th>call</th>\n",
       "      <td>NaN</td>\n",
       "      <td>1.0</td>\n",
       "    </tr>\n",
       "    <tr>\n",
       "      <th>i</th>\n",
       "      <td>NaN</td>\n",
       "      <td>2.0</td>\n",
       "    </tr>\n",
       "    <tr>\n",
       "      <th>love</th>\n",
       "      <td>1.0</td>\n",
       "      <td>1.0</td>\n",
       "    </tr>\n",
       "    <tr>\n",
       "      <th>say</th>\n",
       "      <td>NaN</td>\n",
       "      <td>1.0</td>\n",
       "    </tr>\n",
       "    <tr>\n",
       "      <th>she</th>\n",
       "      <td>1.0</td>\n",
       "      <td>NaN</td>\n",
       "    </tr>\n",
       "    <tr>\n",
       "      <th>yeah</th>\n",
       "      <td>3.0</td>\n",
       "      <td>NaN</td>\n",
       "    </tr>\n",
       "    <tr>\n",
       "      <th>you</th>\n",
       "      <td>1.0</td>\n",
       "      <td>1.0</td>\n",
       "    </tr>\n",
       "  </tbody>\n",
       "</table>\n",
       "</div>"
      ],
      "text/plain": [
       "      beatles  stevie\n",
       "call      NaN     1.0\n",
       "i         NaN     2.0\n",
       "love      1.0     1.0\n",
       "say       NaN     1.0\n",
       "she       1.0     NaN\n",
       "yeah      3.0     NaN\n",
       "you       1.0     1.0"
      ]
     },
     "execution_count": 45,
     "metadata": {},
     "output_type": "execute_result"
    }
   ],
   "source": [
    "df = pd.DataFrame({'beatles': c1, 'stevie': c2})\n",
    "df"
   ]
  },
  {
   "cell_type": "code",
   "execution_count": 46,
   "metadata": {},
   "outputs": [
    {
     "data": {
      "text/plain": [
       "call  stevie     1.0\n",
       "i     stevie     2.0\n",
       "love  beatles    1.0\n",
       "      stevie     1.0\n",
       "say   stevie     1.0\n",
       "she   beatles    1.0\n",
       "yeah  beatles    3.0\n",
       "you   beatles    1.0\n",
       "      stevie     1.0\n",
       "dtype: float64"
      ]
     },
     "execution_count": 46,
     "metadata": {},
     "output_type": "execute_result"
    }
   ],
   "source": [
    "df.stack()"
   ]
  },
  {
   "cell_type": "code",
   "execution_count": 47,
   "metadata": {},
   "outputs": [
    {
     "data": {
      "text/plain": [
       "{'she': 1, 'love': 1, 'you': 1, 'yeah': 3}"
      ]
     },
     "execution_count": 47,
     "metadata": {},
     "output_type": "execute_result"
    }
   ],
   "source": [
    "# with a Python dictionary\n",
    "d = {}\n",
    "for word in token1:\n",
    "    if word not in d:\n",
    "        d[word] = 1\n",
    "    else:\n",
    "        d[word] += 1\n",
    "        \n",
    "d"
   ]
  },
  {
   "cell_type": "code",
   "execution_count": 48,
   "metadata": {},
   "outputs": [
    {
     "data": {
      "text/plain": [
       "{'i': 2, 'call': 1, 'say': 1, 'love': 1, 'you': 1}"
      ]
     },
     "execution_count": 48,
     "metadata": {},
     "output_type": "execute_result"
    }
   ],
   "source": [
    "d = {}\n",
    "for word in token2:\n",
    "    if word not in d:\n",
    "        d[word] = 1\n",
    "    else:\n",
    "        d[word] += 1\n",
    "        \n",
    "d"
   ]
  },
  {
   "cell_type": "code",
   "execution_count": 51,
   "metadata": {},
   "outputs": [
    {
     "data": {
      "text/plain": [
       "[('yeah', 3), ('she', 1), ('love', 1)]"
      ]
     },
     "execution_count": 51,
     "metadata": {},
     "output_type": "execute_result"
    }
   ],
   "source": [
    "# with a Counter dict it is much easier\n",
    "\n",
    "from collections import Counter\n",
    "\n",
    "d = Counter(token1)\n",
    "d.most_common(3)"
   ]
  },
  {
   "cell_type": "code",
   "execution_count": 52,
   "metadata": {},
   "outputs": [
    {
     "data": {
      "text/plain": [
       "[('i', 2), ('call', 1), ('say', 1)]"
      ]
     },
     "execution_count": 52,
     "metadata": {},
     "output_type": "execute_result"
    }
   ],
   "source": [
    "d = Counter(token2)\n",
    "d.most_common(3)"
   ]
  },
  {
   "cell_type": "code",
   "execution_count": null,
   "metadata": {},
   "outputs": [],
   "source": [
    "#\n",
    "# parsing lyrics\n",
    "#"
   ]
  },
  {
   "cell_type": "code",
   "execution_count": 53,
   "metadata": {},
   "outputs": [
    {
     "data": {
      "text/plain": [
       "158278"
      ]
     },
     "execution_count": 53,
     "metadata": {},
     "output_type": "execute_result"
    }
   ],
   "source": [
    "html = open('C://Users/Pippo/Desktop/python_examples/Week_04/lyrics_Def_Leppard-20th_Century_Boy.txt', encoding=\"utf-8\").read()\n",
    "len(html)"
   ]
  },
  {
   "cell_type": "code",
   "execution_count": 82,
   "metadata": {},
   "outputs": [],
   "source": [
    "# with string functions\n",
    "\n",
    "begin = 'data-lang=\"en\">'\n",
    "end = \"</pre>\"\n",
    "start = html.find(begin)\n",
    "stop = html.find(end)"
   ]
  },
  {
   "cell_type": "code",
   "execution_count": 83,
   "metadata": {},
   "outputs": [],
   "source": [
    "lyrics1 = html[start:stop]"
   ]
  },
  {
   "cell_type": "code",
   "execution_count": 84,
   "metadata": {},
   "outputs": [],
   "source": [
    "import re\n",
    "\n",
    "lyrics = re.findall('data-lang=\"en\">(.+)</pre>', html, re.DOTALL)\n",
    "# lyrics is a list of strings"
   ]
  },
  {
   "cell_type": "code",
   "execution_count": 85,
   "metadata": {},
   "outputs": [
    {
     "data": {
      "text/plain": [
       "['Friends say it\\'s fine\\n\\nFriends say it\\'s good\\n\\nEverybody says it\\'s just like <a style=\"color:#333;\" href=\"https://www.definitions.net/definition/Robin\">Robin</a> Hood\\n\\nI walk like a rat\\n\\nCrawl like a cat\\n\\nSting like a bee\\n\\nBabe I\\'m <a style=\"color:#333;\" href=\"https://www.definitions.net/definition/gonna\">gonna</a> be your man\\n\\n\\n\\nAnd it\\'s <a style=\"color:#333;\" href=\"https://www.definitions.net/definition/plain\">plain</a> to see\\n\\nYou were <a style=\"color:#333;\" href=\"https://www.definitions.net/definition/meant\">meant</a> for me\\n\\nYeah, I\\'m your toy\\n\\nYour 20th <a style=\"color:#333;\" href=\"https://www.definitions.net/definition/Century\">Century</a> boy\\n\\n\\n\\nFriends say it\\'s fine\\n\\nFriends say it\\'s good\\n\\nEverybody says it\\'s just like <a style=\"color:#333;\" href=\"https://www.definitions.net/definition/Robin\">Robin</a> Hood\\n\\nFly like a plane\\n\\nDrive like a car\\n\\nBall like a hound\\n\\nBabe I\\'m <a style=\"color:#333;\" href=\"https://www.definitions.net/definition/gonna\">gonna</a> be your man\\n\\n\\n\\nAnd it\\'s <a style=\"color:#333;\" href=\"https://www.definitions.net/definition/plain\">plain</a> to see\\n\\nYou were <a style=\"color:#333;\" href=\"https://www.definitions.net/definition/meant\">meant</a> for me\\n\\nYeah, I\\'m your toy\\n\\nYour 20th <a style=\"color:#333;\" href=\"https://www.definitions.net/definition/Century\">Century</a> boy\\n\\n20th <a style=\"color:#333;\" href=\"https://www.definitions.net/definition/Century\">Century</a> boy, I <a style=\"color:#333;\" href=\"https://www.definitions.net/definition/wanna\">wanna</a> be your toy [4x]\\n\\n\\n\\nFriends say it\\'s fine\\n\\nFriends say it\\'s good\\n\\nEverybody says it\\'s just like <a style=\"color:#333;\" href=\"https://www.definitions.net/definition/Robin\">Robin</a> Hood\\n\\nI walk like a rat\\n\\nCrawl like a cat\\n\\nSting like a bee\\n\\nBabe I\\'m <a style=\"color:#333;\" href=\"https://www.definitions.net/definition/gonna\">gonna</a> be your man\\n\\n\\n\\nAnd it\\'s <a style=\"color:#333;\" href=\"https://www.definitions.net/definition/plain\">plain</a> to see\\n\\nYou were <a style=\"color:#333;\" href=\"https://www.definitions.net/definition/meant\">meant</a> for me\\n\\nYeah I\\'m your toy\\n\\nYour 20th <a style=\"color:#333;\" href=\"https://www.definitions.net/definition/Century\">Century</a> boy\\n\\n20th <a style=\"color:#333;\" href=\"https://www.definitions.net/definition/Century\">Century</a> boy, I <a style=\"color:#333;\" href=\"https://www.definitions.net/definition/wanna\">wanna</a> be your toy [Repeat x4]']"
      ]
     },
     "execution_count": 85,
     "metadata": {},
     "output_type": "execute_result"
    }
   ],
   "source": [
    "lyrics"
   ]
  },
  {
   "cell_type": "code",
   "execution_count": 90,
   "metadata": {},
   "outputs": [
    {
     "name": "stdout",
     "output_type": "stream",
     "text": [
      "something went wrong\n"
     ]
    }
   ],
   "source": [
    "if len(lyrics) == 1:\n",
    "    lyrics = lyrics[0]\n",
    "else:\n",
    "    print(\"something went wrong\")"
   ]
  },
  {
   "cell_type": "code",
   "execution_count": 99,
   "metadata": {
    "scrolled": true
   },
   "outputs": [
    {
     "data": {
      "text/plain": [
       "'Friends say it\\'s fine  Friends say it\\'s good  Everybody says it\\'s just like <a style=\"color:#333;\" href=\"https://www definitions net/definition/Robin\">Robin</a> Hood  I walk like a rat  Crawl like a cat  Sting like a bee  Babe I\\'m <a style=\"color:#333;\" href=\"https://www definitions net/definition/gonna\">gonna</a> be your man    And it\\'s <a style=\"color:#333;\" href=\"https://www definitions net/definition/plain\">plain</a> to see  You were <a style=\"color:#333;\" href=\"https://www definitions net/definition/meant\">meant</a> for me  Yeah  I\\'m your toy  Your 20th <a style=\"color:#333;\" href=\"https://www definitions net/definition/Century\">Century</a> boy    Friends say it\\'s fine  Friends say it\\'s good  Everybody says it\\'s just like <a style=\"color:#333;\" href=\"https://www definitions net/definition/Robin\">Robin</a> Hood  Fly like a plane  Drive like a car  Ball like a hound  Babe I\\'m <a style=\"color:#333;\" href=\"https://www definitions net/definition/gonna\">gonna</a> be your man    And it\\'s <a style=\"color:#333;\" href=\"https://www definitions net/definition/plain\">plain</a> to see  You were <a style=\"color:#333;\" href=\"https://www definitions net/definition/meant\">meant</a> for me  Yeah  I\\'m your toy  Your 20th <a style=\"color:#333;\" href=\"https://www definitions net/definition/Century\">Century</a> boy  20th <a style=\"color:#333;\" href=\"https://www definitions net/definition/Century\">Century</a> boy  I <a style=\"color:#333;\" href=\"https://www definitions net/definition/wanna\">wanna</a> be your toy [4x]    Friends say it\\'s fine  Friends say it\\'s good  Everybody says it\\'s just like <a style=\"color:#333;\" href=\"https://www definitions net/definition/Robin\">Robin</a> Hood  I walk like a rat  Crawl like a cat  Sting like a bee  Babe I\\'m <a style=\"color:#333;\" href=\"https://www definitions net/definition/gonna\">gonna</a> be your man    And it\\'s <a style=\"color:#333;\" href=\"https://www definitions net/definition/plain\">plain</a> to see  You were <a style=\"color:#333;\" href=\"https://www definitions net/definition/meant\">meant</a> for me  Yeah I\\'m your toy  Your 20th <a style=\"color:#333;\" href=\"https://www definitions net/definition/Century\">Century</a> boy  20th <a style=\"color:#333;\" href=\"https://www definitions net/definition/Century\">Century</a> boy  I <a style=\"color:#333;\" href=\"https://www definitions net/definition/wanna\">wanna</a> be your toy [Repeat x4]'"
      ]
     },
     "execution_count": 99,
     "metadata": {},
     "output_type": "execute_result"
    }
   ],
   "source": [
    "#remove special chars and tags\n",
    "l2 = re.sub(\"\\.|\\,|\\?|\\n|<br>\", \" \", lyrics)\n",
    "l2 = re.sub(\"<i>|</i>|\\–|<div>|</div>\", \" \", l2)\n",
    "l2 = re.sub(\"\\s\", \" \", l2) # replace tabs and newlines\n",
    "l2"
   ]
  },
  {
   "cell_type": "code",
   "execution_count": 116,
   "metadata": {},
   "outputs": [
    {
     "data": {
      "text/plain": [
       "\"friends say it's fine  friends say it's good  everybody says it's just like   hood  i walk like a rat  crawl like a cat  sting like a bee  babe i'm   be your man    and it's   to see  you were   for me  yeah  i'm your toy  your 20th   boy    friends say it's fine  friends say it's good  everybody says it's just like   hood  fly like a plane  drive like a car  ball like a hound  babe i'm   be your man    and it's   to see  you were   for me  yeah  i'm your toy  your 20th   boy  20th   boy  i   be your toy [4x]    friends say it's fine  friends say it's good  everybody says it's just like   hood  i walk like a rat  crawl like a cat  sting like a bee  babe i'm   be your man    and it's   to see  you were   for me  yeah i'm your toy  your 20th   boy  20th   boy  i   be your toy [repeat x4]\""
      ]
     },
     "execution_count": 116,
     "metadata": {},
     "output_type": "execute_result"
    }
   ],
   "source": [
    "# l2 = re.sub(\"<a[^>]*>(.*?)</a>\", \"\", l2)\n",
    "l2 = re.sub(\"<[^>]+>\", \"\", l2)\n",
    "l2"
   ]
  },
  {
   "cell_type": "code",
   "execution_count": 110,
   "metadata": {},
   "outputs": [
    {
     "data": {
      "text/plain": [
       "\"friends say it's fine  friends say it's good  everybody says it's just like   hood  i walk like a rat  crawl like a cat  sting like a bee  babe i'm   be your man    and it's   to see  you were   for me  yeah  i'm your toy  your 20th   boy    friends say it's fine  friends say it's good  everybody says it's just like   hood  fly like a plane  drive like a car  ball like a hound  babe i'm   be your man    and it's   to see  you were   for me  yeah  i'm your toy  your 20th   boy  20th   boy  i   be your toy [4x]    friends say it's fine  friends say it's good  everybody says it's just like   hood  i walk like a rat  crawl like a cat  sting like a bee  babe i'm   be your man    and it's   to see  you were   for me  yeah i'm your toy  your 20th   boy  20th   boy  i   be your toy [repeat x4]\""
      ]
     },
     "execution_count": 110,
     "metadata": {},
     "output_type": "execute_result"
    }
   ],
   "source": [
    "l2 = l2.lower()\n",
    "l2"
   ]
  },
  {
   "cell_type": "code",
   "execution_count": 112,
   "metadata": {},
   "outputs": [
    {
     "data": {
      "text/plain": [
       "['friends',\n",
       " 'say',\n",
       " \"it's\",\n",
       " 'fine',\n",
       " 'friends',\n",
       " 'say',\n",
       " \"it's\",\n",
       " 'good',\n",
       " 'everybody',\n",
       " 'says',\n",
       " \"it's\",\n",
       " 'just',\n",
       " 'like',\n",
       " 'hood',\n",
       " 'i',\n",
       " 'walk',\n",
       " 'like',\n",
       " 'a',\n",
       " 'rat',\n",
       " 'crawl',\n",
       " 'like',\n",
       " 'a',\n",
       " 'cat',\n",
       " 'sting',\n",
       " 'like',\n",
       " 'a',\n",
       " 'bee',\n",
       " 'babe',\n",
       " \"i'm\",\n",
       " 'be',\n",
       " 'your',\n",
       " 'man',\n",
       " 'and',\n",
       " \"it's\",\n",
       " 'to',\n",
       " 'see',\n",
       " 'you',\n",
       " 'were',\n",
       " 'for',\n",
       " 'me',\n",
       " 'yeah',\n",
       " \"i'm\",\n",
       " 'your',\n",
       " 'toy',\n",
       " 'your',\n",
       " '20th',\n",
       " 'boy',\n",
       " 'friends',\n",
       " 'say',\n",
       " \"it's\",\n",
       " 'fine',\n",
       " 'friends',\n",
       " 'say',\n",
       " \"it's\",\n",
       " 'good',\n",
       " 'everybody',\n",
       " 'says',\n",
       " \"it's\",\n",
       " 'just',\n",
       " 'like',\n",
       " 'hood',\n",
       " 'fly',\n",
       " 'like',\n",
       " 'a',\n",
       " 'plane',\n",
       " 'drive',\n",
       " 'like',\n",
       " 'a',\n",
       " 'car',\n",
       " 'ball',\n",
       " 'like',\n",
       " 'a',\n",
       " 'hound',\n",
       " 'babe',\n",
       " \"i'm\",\n",
       " 'be',\n",
       " 'your',\n",
       " 'man',\n",
       " 'and',\n",
       " \"it's\",\n",
       " 'to',\n",
       " 'see',\n",
       " 'you',\n",
       " 'were',\n",
       " 'for',\n",
       " 'me',\n",
       " 'yeah',\n",
       " \"i'm\",\n",
       " 'your',\n",
       " 'toy',\n",
       " 'your',\n",
       " '20th',\n",
       " 'boy',\n",
       " '20th',\n",
       " 'boy',\n",
       " 'i',\n",
       " 'be',\n",
       " 'your',\n",
       " 'toy',\n",
       " '[4x]',\n",
       " 'friends',\n",
       " 'say',\n",
       " \"it's\",\n",
       " 'fine',\n",
       " 'friends',\n",
       " 'say',\n",
       " \"it's\",\n",
       " 'good',\n",
       " 'everybody',\n",
       " 'says',\n",
       " \"it's\",\n",
       " 'just',\n",
       " 'like',\n",
       " 'hood',\n",
       " 'i',\n",
       " 'walk',\n",
       " 'like',\n",
       " 'a',\n",
       " 'rat',\n",
       " 'crawl',\n",
       " 'like',\n",
       " 'a',\n",
       " 'cat',\n",
       " 'sting',\n",
       " 'like',\n",
       " 'a',\n",
       " 'bee',\n",
       " 'babe',\n",
       " \"i'm\",\n",
       " 'be',\n",
       " 'your',\n",
       " 'man',\n",
       " 'and',\n",
       " \"it's\",\n",
       " 'to',\n",
       " 'see',\n",
       " 'you',\n",
       " 'were',\n",
       " 'for',\n",
       " 'me',\n",
       " 'yeah',\n",
       " \"i'm\",\n",
       " 'your',\n",
       " 'toy',\n",
       " 'your',\n",
       " '20th',\n",
       " 'boy',\n",
       " '20th',\n",
       " 'boy',\n",
       " 'i',\n",
       " 'be',\n",
       " 'your',\n",
       " 'toy',\n",
       " '[repeat',\n",
       " 'x4]']"
      ]
     },
     "execution_count": 112,
     "metadata": {},
     "output_type": "execute_result"
    }
   ],
   "source": [
    "tokens = l2.split()\n",
    "tokens"
   ]
  },
  {
   "cell_type": "code",
   "execution_count": 114,
   "metadata": {},
   "outputs": [
    {
     "data": {
      "text/plain": [
       "Counter({'friends': 6,\n",
       "         'say': 6,\n",
       "         \"it's\": 12,\n",
       "         'fine': 3,\n",
       "         'good': 3,\n",
       "         'everybody': 3,\n",
       "         'says': 3,\n",
       "         'just': 3,\n",
       "         'like': 12,\n",
       "         'hood': 3,\n",
       "         'i': 4,\n",
       "         'walk': 2,\n",
       "         'a': 9,\n",
       "         'rat': 2,\n",
       "         'crawl': 2,\n",
       "         'cat': 2,\n",
       "         'sting': 2,\n",
       "         'bee': 2,\n",
       "         'babe': 3,\n",
       "         \"i'm\": 6,\n",
       "         'be': 5,\n",
       "         'your': 11,\n",
       "         'man': 3,\n",
       "         'and': 3,\n",
       "         'to': 3,\n",
       "         'see': 3,\n",
       "         'you': 3,\n",
       "         'were': 3,\n",
       "         'for': 3,\n",
       "         'me': 3,\n",
       "         'yeah': 3,\n",
       "         'toy': 5,\n",
       "         '20th': 5,\n",
       "         'boy': 5,\n",
       "         'fly': 1,\n",
       "         'plane': 1,\n",
       "         'drive': 1,\n",
       "         'car': 1,\n",
       "         'ball': 1,\n",
       "         'hound': 1,\n",
       "         '[4x]': 1,\n",
       "         '[repeat': 1,\n",
       "         'x4]': 1})"
      ]
     },
     "execution_count": 114,
     "metadata": {},
     "output_type": "execute_result"
    }
   ],
   "source": [
    "c = Counter(tokens)\n",
    "c"
   ]
  },
  {
   "cell_type": "code",
   "execution_count": 115,
   "metadata": {},
   "outputs": [
    {
     "data": {
      "text/plain": [
       "[(\"it's\", 12),\n",
       " ('like', 12),\n",
       " ('your', 11),\n",
       " ('a', 9),\n",
       " ('friends', 6),\n",
       " ('say', 6),\n",
       " (\"i'm\", 6),\n",
       " ('be', 5),\n",
       " ('toy', 5),\n",
       " ('20th', 5)]"
      ]
     },
     "execution_count": 115,
     "metadata": {},
     "output_type": "execute_result"
    }
   ],
   "source": [
    "c.most_common(10)"
   ]
  },
  {
   "cell_type": "code",
   "execution_count": null,
   "metadata": {},
   "outputs": [],
   "source": []
  }
 ],
 "metadata": {
  "kernelspec": {
   "display_name": "Python 3",
   "language": "python",
   "name": "python3"
  },
  "language_info": {
   "codemirror_mode": {
    "name": "ipython",
    "version": 3
   },
   "file_extension": ".py",
   "mimetype": "text/x-python",
   "name": "python",
   "nbconvert_exporter": "python",
   "pygments_lexer": "ipython3",
   "version": "3.6.5"
  }
 },
 "nbformat": 4,
 "nbformat_minor": 2
}
