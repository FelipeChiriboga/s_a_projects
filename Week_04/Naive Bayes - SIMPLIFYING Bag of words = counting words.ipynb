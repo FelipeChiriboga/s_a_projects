{
 "cells": [
  {
   "cell_type": "code",
   "execution_count": 1,
   "metadata": {},
   "outputs": [],
   "source": [
    "from sklearn.feature_extraction.text import CountVectorizer, TfidfTransformer\n",
    "from sklearn.naive_bayes import MultinomialNB\n",
    "\n",
    "corpus = [\n",
    "     \"she loves you yeah yeah yeah\",\n",
    "     \"all you need is love\",\n",
    "     \"money cant buy me love\",\n",
    "     \"help i need somebody\",\n",
    "     \"can you feel the love tonight\",\n",
    "     \"and it seems to me you lived your life like a candle in the wind\",\n",
    "     \"crocodile rock\",\n",
    "     \"bennie and the jets\"\n",
    "]\n"
   ]
  },
  {
   "cell_type": "code",
   "execution_count": 2,
   "metadata": {},
   "outputs": [
    {
     "data": {
      "text/plain": [
       "['B', 'B', 'B', 'B', 'E', 'E', 'E', 'E']"
      ]
     },
     "execution_count": 2,
     "metadata": {},
     "output_type": "execute_result"
    }
   ],
   "source": [
    "labels = list(\"BBBBEEEE\")\n",
    "labels"
   ]
  },
  {
   "cell_type": "code",
   "execution_count": 3,
   "metadata": {},
   "outputs": [],
   "source": [
    "#\n",
    "# Step 1: tokenize + count bag of words\n",
    "#"
   ]
  },
  {
   "cell_type": "code",
   "execution_count": 4,
   "metadata": {},
   "outputs": [],
   "source": [
    "cv = CountVectorizer()"
   ]
  },
  {
   "cell_type": "code",
   "execution_count": 5,
   "metadata": {},
   "outputs": [],
   "source": [
    "vec = cv.fit_transform(corpus)"
   ]
  },
  {
   "cell_type": "code",
   "execution_count": 6,
   "metadata": {
    "scrolled": false
   },
   "outputs": [
    {
     "data": {
      "text/plain": [
       "{'she': 24,\n",
       " 'loves': 18,\n",
       " 'you': 31,\n",
       " 'yeah': 30,\n",
       " 'all': 0,\n",
       " 'need': 21,\n",
       " 'is': 11,\n",
       " 'love': 17,\n",
       " 'money': 20,\n",
       " 'cant': 6,\n",
       " 'buy': 3,\n",
       " 'me': 19,\n",
       " 'help': 9,\n",
       " 'somebody': 25,\n",
       " 'can': 4,\n",
       " 'feel': 8,\n",
       " 'the': 26,\n",
       " 'tonight': 28,\n",
       " 'and': 1,\n",
       " 'it': 12,\n",
       " 'seems': 23,\n",
       " 'to': 27,\n",
       " 'lived': 16,\n",
       " 'your': 32,\n",
       " 'life': 14,\n",
       " 'like': 15,\n",
       " 'candle': 5,\n",
       " 'in': 10,\n",
       " 'wind': 29,\n",
       " 'crocodile': 7,\n",
       " 'rock': 22,\n",
       " 'bennie': 2,\n",
       " 'jets': 13}"
      ]
     },
     "execution_count": 6,
     "metadata": {},
     "output_type": "execute_result"
    }
   ],
   "source": [
    "cv.vocabulary_"
   ]
  },
  {
   "cell_type": "code",
   "execution_count": 7,
   "metadata": {},
   "outputs": [
    {
     "data": {
      "text/plain": [
       "matrix([[0, 0, 0, 0, 0, 0, 0, 0, 0, 0, 0, 0, 0, 0, 0, 0, 0, 0, 1, 0, 0,\n",
       "         0, 0, 0, 1, 0, 0, 0, 0, 0, 3, 1, 0],\n",
       "        [1, 0, 0, 0, 0, 0, 0, 0, 0, 0, 0, 1, 0, 0, 0, 0, 0, 1, 0, 0, 0,\n",
       "         1, 0, 0, 0, 0, 0, 0, 0, 0, 0, 1, 0],\n",
       "        [0, 0, 0, 1, 0, 0, 1, 0, 0, 0, 0, 0, 0, 0, 0, 0, 0, 1, 0, 1, 1,\n",
       "         0, 0, 0, 0, 0, 0, 0, 0, 0, 0, 0, 0],\n",
       "        [0, 0, 0, 0, 0, 0, 0, 0, 0, 1, 0, 0, 0, 0, 0, 0, 0, 0, 0, 0, 0,\n",
       "         1, 0, 0, 0, 1, 0, 0, 0, 0, 0, 0, 0],\n",
       "        [0, 0, 0, 0, 1, 0, 0, 0, 1, 0, 0, 0, 0, 0, 0, 0, 0, 1, 0, 0, 0,\n",
       "         0, 0, 0, 0, 0, 1, 0, 1, 0, 0, 1, 0],\n",
       "        [0, 1, 0, 0, 0, 1, 0, 0, 0, 0, 1, 0, 1, 0, 1, 1, 1, 0, 0, 1, 0,\n",
       "         0, 0, 1, 0, 0, 1, 1, 0, 1, 0, 1, 1],\n",
       "        [0, 0, 0, 0, 0, 0, 0, 1, 0, 0, 0, 0, 0, 0, 0, 0, 0, 0, 0, 0, 0,\n",
       "         0, 1, 0, 0, 0, 0, 0, 0, 0, 0, 0, 0],\n",
       "        [0, 1, 1, 0, 0, 0, 0, 0, 0, 0, 0, 0, 0, 1, 0, 0, 0, 0, 0, 0, 0,\n",
       "         0, 0, 0, 0, 0, 1, 0, 0, 0, 0, 0, 0]], dtype=int64)"
      ]
     },
     "execution_count": 7,
     "metadata": {},
     "output_type": "execute_result"
    }
   ],
   "source": [
    "vec.todense()"
   ]
  },
  {
   "cell_type": "code",
   "execution_count": 8,
   "metadata": {},
   "outputs": [],
   "source": [
    "#\n",
    "# Step 2: apply Tf-Idf\n",
    "#"
   ]
  },
  {
   "cell_type": "code",
   "execution_count": 9,
   "metadata": {},
   "outputs": [],
   "source": [
    "tf = TfidfTransformer()"
   ]
  },
  {
   "cell_type": "code",
   "execution_count": 10,
   "metadata": {},
   "outputs": [],
   "source": [
    "vec2 = tf.fit_transform(vec)"
   ]
  },
  {
   "cell_type": "code",
   "execution_count": 11,
   "metadata": {
    "scrolled": false
   },
   "outputs": [
    {
     "data": {
      "text/plain": [
       "matrix([[0.        , 0.        , 0.        , 0.        , 0.        ,\n",
       "         0.        , 0.        , 0.        , 0.        , 0.        ,\n",
       "         0.        , 0.        , 0.        , 0.        , 0.        ,\n",
       "         0.        , 0.        , 0.        , 0.29614771, 0.        ,\n",
       "         0.        , 0.        , 0.        , 0.        , 0.29614771,\n",
       "         0.        , 0.        , 0.        , 0.        , 0.        ,\n",
       "         0.88844312, 0.18778149, 0.        ],\n",
       "        [0.52504902, 0.        , 0.        , 0.        , 0.        ,\n",
       "         0.        , 0.        , 0.        , 0.        , 0.        ,\n",
       "         0.        , 0.52504902, 0.        , 0.        , 0.        ,\n",
       "         0.        , 0.        , 0.37971156, 0.        , 0.        ,\n",
       "         0.        , 0.44003206, 0.        , 0.        , 0.        ,\n",
       "         0.        , 0.        , 0.        , 0.        , 0.        ,\n",
       "         0.        , 0.33292335, 0.        ],\n",
       "        [0.        , 0.        , 0.        , 0.48648224, 0.        ,\n",
       "         0.        , 0.48648224, 0.        , 0.        , 0.        ,\n",
       "         0.        , 0.        , 0.        , 0.        , 0.        ,\n",
       "         0.        , 0.        , 0.35182035, 0.        , 0.40771009,\n",
       "         0.48648224, 0.        , 0.        , 0.        , 0.        ,\n",
       "         0.        , 0.        , 0.        , 0.        , 0.        ,\n",
       "         0.        , 0.        , 0.        ],\n",
       "        [0.        , 0.        , 0.        , 0.        , 0.        ,\n",
       "         0.        , 0.        , 0.        , 0.        , 0.60831315,\n",
       "         0.        , 0.        , 0.        , 0.        , 0.        ,\n",
       "         0.        , 0.        , 0.        , 0.        , 0.        ,\n",
       "         0.        , 0.5098139 , 0.        , 0.        , 0.        ,\n",
       "         0.60831315, 0.        , 0.        , 0.        , 0.        ,\n",
       "         0.        , 0.        , 0.        ],\n",
       "        [0.        , 0.        , 0.        , 0.        , 0.47414813,\n",
       "         0.        , 0.        , 0.        , 0.47414813, 0.        ,\n",
       "         0.        , 0.        , 0.        , 0.        , 0.        ,\n",
       "         0.        , 0.        , 0.34290041, 0.        , 0.        ,\n",
       "         0.        , 0.        , 0.        , 0.        , 0.        ,\n",
       "         0.        , 0.34290041, 0.        , 0.47414813, 0.        ,\n",
       "         0.        , 0.30064809, 0.        ],\n",
       "        [0.        , 0.23867459, 0.        , 0.        , 0.        ,\n",
       "         0.28478802, 0.        , 0.        , 0.        , 0.        ,\n",
       "         0.28478802, 0.        , 0.28478802, 0.        , 0.28478802,\n",
       "         0.28478802, 0.28478802, 0.        , 0.        , 0.23867459,\n",
       "         0.        , 0.        , 0.        , 0.28478802, 0.        ,\n",
       "         0.        , 0.20595659, 0.28478802, 0.        , 0.28478802,\n",
       "         0.        , 0.18057853, 0.28478802],\n",
       "        [0.        , 0.        , 0.        , 0.        , 0.        ,\n",
       "         0.        , 0.        , 0.70710678, 0.        , 0.        ,\n",
       "         0.        , 0.        , 0.        , 0.        , 0.        ,\n",
       "         0.        , 0.        , 0.        , 0.        , 0.        ,\n",
       "         0.        , 0.        , 0.70710678, 0.        , 0.        ,\n",
       "         0.        , 0.        , 0.        , 0.        , 0.        ,\n",
       "         0.        , 0.        , 0.        ],\n",
       "        [0.        , 0.46665279, 0.55681304, 0.        , 0.        ,\n",
       "         0.        , 0.        , 0.        , 0.        , 0.        ,\n",
       "         0.        , 0.        , 0.        , 0.55681304, 0.        ,\n",
       "         0.        , 0.        , 0.        , 0.        , 0.        ,\n",
       "         0.        , 0.        , 0.        , 0.        , 0.        ,\n",
       "         0.        , 0.40268307, 0.        , 0.        , 0.        ,\n",
       "         0.        , 0.        , 0.        ]])"
      ]
     },
     "execution_count": 11,
     "metadata": {},
     "output_type": "execute_result"
    }
   ],
   "source": [
    "vec2.todense()"
   ]
  },
  {
   "cell_type": "code",
   "execution_count": 12,
   "metadata": {},
   "outputs": [],
   "source": [
    "#\n",
    "# Step 3: build Naive Bayes model\n",
    "#"
   ]
  },
  {
   "cell_type": "code",
   "execution_count": 13,
   "metadata": {},
   "outputs": [],
   "source": [
    "X = vec2\n",
    "y = labels"
   ]
  },
  {
   "cell_type": "code",
   "execution_count": 14,
   "metadata": {},
   "outputs": [],
   "source": [
    "m = MultinomialNB()"
   ]
  },
  {
   "cell_type": "code",
   "execution_count": 15,
   "metadata": {},
   "outputs": [
    {
     "data": {
      "text/plain": [
       "MultinomialNB(alpha=1.0, class_prior=None, fit_prior=True)"
      ]
     },
     "execution_count": 15,
     "metadata": {},
     "output_type": "execute_result"
    }
   ],
   "source": [
    "m.fit(X, y)"
   ]
  },
  {
   "cell_type": "code",
   "execution_count": 16,
   "metadata": {},
   "outputs": [
    {
     "data": {
      "text/plain": [
       "1.0"
      ]
     },
     "execution_count": 16,
     "metadata": {},
     "output_type": "execute_result"
    }
   ],
   "source": [
    "m.score(X, y)"
   ]
  },
  {
   "cell_type": "code",
   "execution_count": 17,
   "metadata": {},
   "outputs": [],
   "source": [
    "#\n",
    "# test with text samples\n",
    "#"
   ]
  },
  {
   "cell_type": "code",
   "execution_count": 18,
   "metadata": {},
   "outputs": [],
   "source": [
    "test_songs = [\n",
    "      \"hello you yeah crocodile\",\n",
    "      \"love you money yeah yeah yeah\",\n",
    "      \"bennie and the candle\",\n",
    "      \"with a little help from my crocodile\"]\n"
   ]
  },
  {
   "cell_type": "code",
   "execution_count": 19,
   "metadata": {},
   "outputs": [],
   "source": [
    "# we need to vectorize + tfidf first\n",
    "\n",
    "test_vec = cv.transform(test_songs)"
   ]
  },
  {
   "cell_type": "code",
   "execution_count": 20,
   "metadata": {},
   "outputs": [],
   "source": [
    "test_vec2 = tf.transform(test_vec)"
   ]
  },
  {
   "cell_type": "code",
   "execution_count": 21,
   "metadata": {},
   "outputs": [
    {
     "name": "stdout",
     "output_type": "stream",
     "text": [
      "['B' 'B' 'E' 'B']\n"
     ]
    }
   ],
   "source": [
    "# prediction results\n",
    "print(m.predict(test_vec2))\n"
   ]
  },
  {
   "cell_type": "code",
   "execution_count": 22,
   "metadata": {},
   "outputs": [
    {
     "name": "stdout",
     "output_type": "stream",
     "text": [
      "[[0.53625999 0.46374001]\n",
      " [0.69504254 0.30495746]\n",
      " [0.30505216 0.69494784]\n",
      " [0.50389791 0.49610209]]\n"
     ]
    }
   ],
   "source": [
    "# class probabilities\n",
    "print(m.predict_proba(test_vec2))\n"
   ]
  },
  {
   "cell_type": "code",
   "execution_count": 23,
   "metadata": {},
   "outputs": [
    {
     "data": {
      "text/plain": [
       "array([[-3.28706481, -3.70909137, -3.70909137, -3.31267895, -3.70909137,\n",
       "        -3.70909137, -3.31267895, -3.70909137, -3.70909137, -3.23390547,\n",
       "        -3.70909137, -3.28706481, -3.70909137, -3.70909137, -3.70909137,\n",
       "        -3.70909137, -3.70909137, -3.16008485, -3.44969481, -3.36712704,\n",
       "        -3.31267895, -3.041341  , -3.70909137, -3.70909137, -3.44969481,\n",
       "        -3.23390547, -3.70909137, -3.70909137, -3.70909137, -3.70909137,\n",
       "        -3.07333863, -3.28991743, -3.70909137],\n",
       "       [-3.74992359, -3.2161665 , -3.30728278, -3.74992359, -3.36184331,\n",
       "        -3.49932985, -3.74992359, -3.2151236 , -3.36184331, -3.74992359,\n",
       "        -3.49932985, -3.74992359, -3.49932985, -3.30728278, -3.49932985,\n",
       "        -3.49932985, -3.49932985, -3.45509183, -3.74992359, -3.53588167,\n",
       "        -3.74992359, -3.74992359, -3.2151236 , -3.49932985, -3.74992359,\n",
       "        -3.74992359, -3.08130476, -3.49932985, -3.36184331, -3.49932985,\n",
       "        -3.74992359, -3.35705305, -3.49932985]])"
      ]
     },
     "execution_count": 23,
     "metadata": {},
     "output_type": "execute_result"
    }
   ],
   "source": [
    "m.feature_log_prob_"
   ]
  },
  {
   "cell_type": "code",
   "execution_count": 24,
   "metadata": {},
   "outputs": [],
   "source": [
    "probdiff = m.feature_log_prob_[0] - m.feature_log_prob_[1]"
   ]
  },
  {
   "cell_type": "code",
   "execution_count": 25,
   "metadata": {},
   "outputs": [
    {
     "data": {
      "text/plain": [
       "array([ 0.46285878, -0.49292488, -0.40180859,  0.43724464, -0.34724806,\n",
       "       -0.20976152,  0.43724464, -0.49396777, -0.34724806,  0.51601812,\n",
       "       -0.20976152,  0.46285878, -0.20976152, -0.40180859, -0.20976152,\n",
       "       -0.20976152, -0.20976152,  0.29500698,  0.30022879,  0.16875463,\n",
       "        0.43724464,  0.7085826 , -0.49396777, -0.20976152,  0.30022879,\n",
       "        0.51601812, -0.62778661, -0.20976152, -0.34724806, -0.20976152,\n",
       "        0.67658497,  0.06713562, -0.20976152])"
      ]
     },
     "execution_count": 25,
     "metadata": {},
     "output_type": "execute_result"
    }
   ],
   "source": [
    "probdiff"
   ]
  },
  {
   "cell_type": "code",
   "execution_count": 26,
   "metadata": {
    "scrolled": true
   },
   "outputs": [
    {
     "data": {
      "text/plain": [
       "{'she': 24,\n",
       " 'loves': 18,\n",
       " 'you': 31,\n",
       " 'yeah': 30,\n",
       " 'all': 0,\n",
       " 'need': 21,\n",
       " 'is': 11,\n",
       " 'love': 17,\n",
       " 'money': 20,\n",
       " 'cant': 6,\n",
       " 'buy': 3,\n",
       " 'me': 19,\n",
       " 'help': 9,\n",
       " 'somebody': 25,\n",
       " 'can': 4,\n",
       " 'feel': 8,\n",
       " 'the': 26,\n",
       " 'tonight': 28,\n",
       " 'and': 1,\n",
       " 'it': 12,\n",
       " 'seems': 23,\n",
       " 'to': 27,\n",
       " 'lived': 16,\n",
       " 'your': 32,\n",
       " 'life': 14,\n",
       " 'like': 15,\n",
       " 'candle': 5,\n",
       " 'in': 10,\n",
       " 'wind': 29,\n",
       " 'crocodile': 7,\n",
       " 'rock': 22,\n",
       " 'bennie': 2,\n",
       " 'jets': 13}"
      ]
     },
     "execution_count": 26,
     "metadata": {},
     "output_type": "execute_result"
    }
   ],
   "source": [
    "cv.vocabulary_"
   ]
  },
  {
   "cell_type": "code",
   "execution_count": 27,
   "metadata": {},
   "outputs": [],
   "source": [
    "words = list(cv.vocabulary_.keys())"
   ]
  },
  {
   "cell_type": "code",
   "execution_count": 28,
   "metadata": {
    "scrolled": true
   },
   "outputs": [
    {
     "data": {
      "text/plain": [
       "['she',\n",
       " 'loves',\n",
       " 'you',\n",
       " 'yeah',\n",
       " 'all',\n",
       " 'need',\n",
       " 'is',\n",
       " 'love',\n",
       " 'money',\n",
       " 'cant',\n",
       " 'buy',\n",
       " 'me',\n",
       " 'help',\n",
       " 'somebody',\n",
       " 'can',\n",
       " 'feel',\n",
       " 'the',\n",
       " 'tonight',\n",
       " 'and',\n",
       " 'it',\n",
       " 'seems',\n",
       " 'to',\n",
       " 'lived',\n",
       " 'your',\n",
       " 'life',\n",
       " 'like',\n",
       " 'candle',\n",
       " 'in',\n",
       " 'wind',\n",
       " 'crocodile',\n",
       " 'rock',\n",
       " 'bennie',\n",
       " 'jets']"
      ]
     },
     "execution_count": 28,
     "metadata": {},
     "output_type": "execute_result"
    }
   ],
   "source": [
    "words"
   ]
  },
  {
   "cell_type": "code",
   "execution_count": 29,
   "metadata": {},
   "outputs": [],
   "source": [
    "words.sort()"
   ]
  },
  {
   "cell_type": "raw",
   "metadata": {},
   "source": [
    "words"
   ]
  },
  {
   "cell_type": "code",
   "execution_count": 30,
   "metadata": {},
   "outputs": [
    {
     "data": {
      "text/plain": [
       "array([ 0.46285878, -0.49292488, -0.40180859,  0.43724464, -0.34724806,\n",
       "       -0.20976152,  0.43724464, -0.49396777, -0.34724806,  0.51601812,\n",
       "       -0.20976152,  0.46285878, -0.20976152, -0.40180859, -0.20976152,\n",
       "       -0.20976152, -0.20976152,  0.29500698,  0.30022879,  0.16875463,\n",
       "        0.43724464,  0.7085826 , -0.49396777, -0.20976152,  0.30022879,\n",
       "        0.51601812, -0.62778661, -0.20976152, -0.34724806, -0.20976152,\n",
       "        0.67658497,  0.06713562, -0.20976152])"
      ]
     },
     "execution_count": 30,
     "metadata": {},
     "output_type": "execute_result"
    }
   ],
   "source": [
    "probdiff"
   ]
  },
  {
   "cell_type": "code",
   "execution_count": 31,
   "metadata": {},
   "outputs": [],
   "source": [
    "import pandas as pd\n"
   ]
  },
  {
   "cell_type": "code",
   "execution_count": 32,
   "metadata": {
    "scrolled": true
   },
   "outputs": [
    {
     "data": {
      "text/plain": [
       "the         -0.627787\n",
       "crocodile   -0.493968\n",
       "rock        -0.493968\n",
       "and         -0.492925\n",
       "bennie      -0.401809\n",
       "jets        -0.401809\n",
       "can         -0.347248\n",
       "tonight     -0.347248\n",
       "feel        -0.347248\n",
       "lived       -0.209762\n",
       "wind        -0.209762\n",
       "to          -0.209762\n",
       "seems       -0.209762\n",
       "like        -0.209762\n",
       "your        -0.209762\n",
       "it          -0.209762\n",
       "candle      -0.209762\n",
       "life        -0.209762\n",
       "in          -0.209762\n",
       "you          0.067136\n",
       "me           0.168755\n",
       "love         0.295007\n",
       "she          0.300229\n",
       "loves        0.300229\n",
       "money        0.437245\n",
       "cant         0.437245\n",
       "buy          0.437245\n",
       "is           0.462859\n",
       "all          0.462859\n",
       "somebody     0.516018\n",
       "help         0.516018\n",
       "yeah         0.676585\n",
       "need         0.708583\n",
       "dtype: float64"
      ]
     },
     "execution_count": 32,
     "metadata": {},
     "output_type": "execute_result"
    }
   ],
   "source": [
    "s = pd.Series(probdiff, index=words)\n",
    "s.sort_values(inplace=True)\n",
    "s"
   ]
  },
  {
   "cell_type": "code",
   "execution_count": 44,
   "metadata": {},
   "outputs": [],
   "source": [
    "import matplotlib.pyplot as plt\n",
    "%matplotlib inline"
   ]
  },
  {
   "cell_type": "code",
   "execution_count": 51,
   "metadata": {
    "scrolled": true
   },
   "outputs": [
    {
     "data": {
      "text/plain": [
       "<matplotlib.axes._subplots.AxesSubplot at 0x270558c1128>"
      ]
     },
     "execution_count": 51,
     "metadata": {},
     "output_type": "execute_result"
    },
    {
     "data": {
      "image/png": "[encoded data removed]",
      "text/plain": [
       "<Figure size 432x288 with 1 Axes>"
      ]
     },
     "metadata": {},
     "output_type": "display_data"
    }
   ],
   "source": [
    "s.plot.barh()"
   ]
  },
  {
   "cell_type": "code",
   "execution_count": 52,
   "metadata": {},
   "outputs": [
    {
     "data": {
      "text/plain": [
       "<matplotlib.axes._subplots.AxesSubplot at 0x27056da1b00>"
      ]
     },
     "execution_count": 52,
     "metadata": {},
     "output_type": "execute_result"
    },
    {
     "data": {
      "image/png": "[encoded data removed]",
      "text/plain": [
       "<Figure size 432x288 with 1 Axes>"
      ]
     },
     "metadata": {},
     "output_type": "display_data"
    }
   ],
   "source": [
    "s.plot.bar()"
   ]
  },
  {
   "cell_type": "code",
   "execution_count": 46,
   "metadata": {},
   "outputs": [],
   "source": [
    "plt.show()"
   ]
  },
  {
   "cell_type": "code",
   "execution_count": null,
   "metadata": {},
   "outputs": [],
   "source": []
  }
 ],
 "metadata": {
  "kernelspec": {
   "display_name": "Python 3",
   "language": "python",
   "name": "python3"
  },
  "language_info": {
   "codemirror_mode": {
    "name": "ipython",
    "version": 3
   },
   "file_extension": ".py",
   "mimetype": "text/x-python",
   "name": "python",
   "nbconvert_exporter": "python",
   "pygments_lexer": "ipython3",
   "version": "3.6.5"
  }
 },
 "nbformat": 4,
 "nbformat_minor": 2
}
