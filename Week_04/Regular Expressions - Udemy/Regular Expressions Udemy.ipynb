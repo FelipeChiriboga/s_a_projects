{
 "cells": [
  {
   "cell_type": "markdown",
   "metadata": {},
   "source": [
    "# Basic Introduction"
   ]
  },
  {
   "cell_type": "code",
   "execution_count": null,
   "metadata": {},
   "outputs": [],
   "source": [
    "# Regular expression is a group of characters that define a particular pattern"
   ]
  },
  {
   "cell_type": "code",
   "execution_count": 1,
   "metadata": {},
   "outputs": [
    {
     "data": {
      "text/plain": [
       "\"\\nemail = abg@gmail.com\\n\\nusername = abc_xyz007\\n\\nwhat is a special character:\\n\\nprint('hello \\n world')\\n\\n\""
      ]
     },
     "execution_count": 1,
     "metadata": {},
     "output_type": "execute_result"
    }
   ],
   "source": [
    "\"\"\"\n",
    "email = abg@gmail.com\n",
    "\n",
    "username = abc_xyz007\n",
    "\n",
    "what is a special character:\n",
    "\n",
    "print('hello \\n world')\n",
    "\n",
    "\"\"\"\n",
    " "
   ]
  },
  {
   "cell_type": "code",
   "execution_count": 2,
   "metadata": {},
   "outputs": [
    {
     "name": "stdout",
     "output_type": "stream",
     "text": [
      "hello \n",
      " world\n"
     ]
    }
   ],
   "source": [
    "# as you can see the \\n means jump to next line (special character)\n",
    "print('hello \\n world')\n"
   ]
  },
  {
   "cell_type": "code",
   "execution_count": 4,
   "metadata": {},
   "outputs": [
    {
     "name": "stdout",
     "output_type": "stream",
     "text": [
      "hello \\n world\n"
     ]
    }
   ],
   "source": [
    "# if we place 'r' will turn into a pure string meaning the \\n does not work anymore.\n",
    "print(r'hello \\n world')\n"
   ]
  },
  {
   "cell_type": "code",
   "execution_count": 5,
   "metadata": {},
   "outputs": [],
   "source": [
    "# example with regular expressions\n",
    "\n",
    "import re\n"
   ]
  },
  {
   "cell_type": "code",
   "execution_count": 6,
   "metadata": {},
   "outputs": [
    {
     "name": "stdout",
     "output_type": "stream",
     "text": [
      "Match found\n"
     ]
    }
   ],
   "source": [
    "# the Match method\n",
    "\n",
    "string = \"abc\"\n",
    "pattern = \"a\"\n",
    "\n",
    "\n",
    "if re.match(pattern, string):\n",
    "    print('Match found')\n",
    "else:\n",
    "    print('Match not found')"
   ]
  },
  {
   "cell_type": "code",
   "execution_count": 7,
   "metadata": {},
   "outputs": [
    {
     "name": "stdout",
     "output_type": "stream",
     "text": [
      "Match not found\n"
     ]
    }
   ],
   "source": [
    "# the Match method\n",
    "# this particular method just match from the beginning of the string as the example above\n",
    "\n",
    "string = \"babc\"\n",
    "pattern = \"a\"\n",
    "\n",
    "\n",
    "if re.match(pattern, string):\n",
    "    print('Match found')\n",
    "else:\n",
    "    print('Match not found')"
   ]
  },
  {
   "cell_type": "code",
   "execution_count": 8,
   "metadata": {},
   "outputs": [
    {
     "name": "stdout",
     "output_type": "stream",
     "text": [
      "Match found\n"
     ]
    }
   ],
   "source": [
    "# the Match method\n",
    "\n",
    "string = \"ababc\"\n",
    "pattern = \"a\"\n",
    "\n",
    "\n",
    "if re.match(pattern, string):\n",
    "    print('Match found')\n",
    "else:\n",
    "    print('Match not found')\n",
    "    "
   ]
  },
  {
   "cell_type": "code",
   "execution_count": 9,
   "metadata": {},
   "outputs": [
    {
     "name": "stdout",
     "output_type": "stream",
     "text": [
      "Match found\n"
     ]
    }
   ],
   "source": [
    "# the Match method\n",
    "# using the search method we will loop through the all string \n",
    "\n",
    "string = \"babc\"\n",
    "pattern = \"a\"\n",
    "\n",
    "\n",
    "if re.search(pattern, string):\n",
    "    print('Match found')\n",
    "else:\n",
    "    print('Match not found')"
   ]
  },
  {
   "cell_type": "code",
   "execution_count": 10,
   "metadata": {},
   "outputs": [
    {
     "name": "stdout",
     "output_type": "stream",
     "text": [
      "Match found\n"
     ]
    }
   ],
   "source": [
    "# the Match method\n",
    "# using the search method we will loop through the all string \n",
    "\n",
    "string = \"bbbabc\"\n",
    "pattern = \"a\"\n",
    "\n",
    "\n",
    "if re.search(pattern, string):\n",
    "    print('Match found')\n",
    "else:\n",
    "    print('Match not found')"
   ]
  },
  {
   "cell_type": "markdown",
   "metadata": {},
   "source": [
    "## Metacharacters "
   ]
  },
  {
   "cell_type": "markdown",
   "metadata": {},
   "source": [
    "##### Most letters & characters match themselves.\n",
    "\n",
    "##### Eg: string = \"egg\" & pattern = \"egg\" they will obviously match each other. \n",
    "\n",
    "##### Metacharacters: Special set of characters which don't match themselves instead they are create some pattern which should be matched.\n",
    "\n",
    "##### In simple words, they allow us to create complex patterns which can be match, instead of simply matching simple strings.\n",
    "\n",
    "#### Metacharacters : *, +, {...}, . , ?, ^,  \n",
    "\n",
    "#### Example: \n",
    "\n",
    "##### * makes sure that a particular character preceding it is present 0 or more times.\n",
    "\n",
    "##### Example: pattern = \"ab*c\" \n",
    "\n",
    "##### Strings which match the pattern: ac, abc, abbc, abbbc \n"
   ]
  },
  {
   "cell_type": "code",
   "execution_count": 12,
   "metadata": {},
   "outputs": [
    {
     "name": "stdout",
     "output_type": "stream",
     "text": [
      "Match found\n"
     ]
    }
   ],
   "source": [
    "\n",
    "string = \"ac\"\n",
    "pattern = \"ab*c\"\n",
    "\n",
    "\n",
    "if re.match(pattern, string):\n",
    "    print('Match found')\n",
    "else:\n",
    "    print('Match not found')"
   ]
  },
  {
   "cell_type": "code",
   "execution_count": 13,
   "metadata": {},
   "outputs": [
    {
     "name": "stdout",
     "output_type": "stream",
     "text": [
      "Match found\n"
     ]
    }
   ],
   "source": [
    "string = \"abc\"\n",
    "pattern = \"ab*c\"\n",
    "\n",
    "\n",
    "if re.match(pattern, string):\n",
    "    print('Match found')\n",
    "else:\n",
    "    print('Match not found')"
   ]
  },
  {
   "cell_type": "code",
   "execution_count": 14,
   "metadata": {},
   "outputs": [
    {
     "name": "stdout",
     "output_type": "stream",
     "text": [
      "Match found\n"
     ]
    }
   ],
   "source": [
    "string = \"abbc\"\n",
    "pattern = \"ab*c\"\n",
    "\n",
    "\n",
    "if re.match(pattern, string):\n",
    "    print('Match found')\n",
    "else:\n",
    "    print('Match not found')"
   ]
  },
  {
   "cell_type": "code",
   "execution_count": 15,
   "metadata": {},
   "outputs": [
    {
     "name": "stdout",
     "output_type": "stream",
     "text": [
      "Match found\n"
     ]
    }
   ],
   "source": [
    "string = \"abbbc\"\n",
    "pattern = \"ab*c\"\n",
    "\n",
    "\n",
    "if re.match(pattern, string):\n",
    "    print('Match found')\n",
    "else:\n",
    "    print('Match not found')"
   ]
  },
  {
   "cell_type": "markdown",
   "metadata": {},
   "source": [
    "### The + Metacharacter"
   ]
  },
  {
   "cell_type": "markdown",
   "metadata": {},
   "source": [
    "##### '+' Metacharacter means that the character preceding it must be present at least one time\n",
    "\n",
    "##### Example: pattern = ab + c \n",
    "\n",
    "##### This means that b can be present multiple number of times but it should appear at least once. \n",
    "\n",
    "##### strings which match: abc, abbc, abbbc\n",
    "\n",
    "##### string which do not match: ac "
   ]
  },
  {
   "cell_type": "code",
   "execution_count": 16,
   "metadata": {},
   "outputs": [
    {
     "name": "stdout",
     "output_type": "stream",
     "text": [
      "Match found\n"
     ]
    }
   ],
   "source": [
    "\n",
    "string = \"abc\"\n",
    "pattern = \"ab+c\"\n",
    "\n",
    "\n",
    "if re.match(pattern, string):\n",
    "    print('Match found')\n",
    "else:\n",
    "    print('Match not found')"
   ]
  },
  {
   "cell_type": "code",
   "execution_count": 17,
   "metadata": {},
   "outputs": [
    {
     "name": "stdout",
     "output_type": "stream",
     "text": [
      "Match found\n"
     ]
    }
   ],
   "source": [
    "string = \"abbc\"\n",
    "pattern = \"ab+c\"\n",
    "\n",
    "\n",
    "if re.match(pattern, string):\n",
    "    print('Match found')\n",
    "else:\n",
    "    print('Match not found')"
   ]
  },
  {
   "cell_type": "code",
   "execution_count": 19,
   "metadata": {},
   "outputs": [
    {
     "name": "stdout",
     "output_type": "stream",
     "text": [
      "Match not found\n"
     ]
    }
   ],
   "source": [
    "string = \"ac\"\n",
    "pattern = \"ab+c\"\n",
    "\n",
    "\n",
    "if re.match(pattern, string):\n",
    "    print('Match found')\n",
    "else:\n",
    "    print('Match not found')"
   ]
  },
  {
   "cell_type": "markdown",
   "metadata": {},
   "source": [
    "### The curly braces {...}\n",
    "\n",
    "##### Let's say you want to repeat a particular character at least x times.\n",
    "\n",
    "##### A curly brace, tells the computer to repeat the proceding character, as many times number of times as the value inside the bracket.\n",
    "\n",
    "##### Pattern = 'ab{2}\"\n",
    "\n",
    "##### Matching strings: abb, abbb, abbbb\n",
    "\n",
    "##### No matching strings: ab"
   ]
  },
  {
   "cell_type": "code",
   "execution_count": 21,
   "metadata": {},
   "outputs": [
    {
     "name": "stdout",
     "output_type": "stream",
     "text": [
      "Match found\n"
     ]
    }
   ],
   "source": [
    "string = \"abb\"\n",
    "pattern = \"ab{2}\"\n",
    "\n",
    "\n",
    "if re.match(pattern, string):\n",
    "    print('Match found')\n",
    "else:\n",
    "    print('Match not found')"
   ]
  },
  {
   "cell_type": "code",
   "execution_count": 25,
   "metadata": {},
   "outputs": [
    {
     "name": "stdout",
     "output_type": "stream",
     "text": [
      "Match found\n"
     ]
    }
   ],
   "source": [
    "string = \"abbb\"\n",
    "pattern = \"ab{2}\"\n",
    "\n",
    "\n",
    "if re.match(pattern, string):\n",
    "    print('Match found')\n",
    "else:\n",
    "    print('Match not found')"
   ]
  },
  {
   "cell_type": "code",
   "execution_count": 26,
   "metadata": {},
   "outputs": [
    {
     "name": "stdout",
     "output_type": "stream",
     "text": [
      "Match not found\n"
     ]
    }
   ],
   "source": [
    "string = \"ab\"\n",
    "pattern = r\"ab{2}\"\n",
    "\n",
    "\n",
    "if re.match(pattern, string):\n",
    "    print('Match found')\n",
    "else:\n",
    "    print('Match not found')"
   ]
  },
  {
   "cell_type": "markdown",
   "metadata": {},
   "source": [
    "### The Wildcard Metacharacter\n",
    "\n",
    "##### Notation: ( . )\n",
    "\n",
    "##### It states that the . symbol can take place of any other symbol.\n",
    "\n",
    "##### Example: 'a.b' means that we can place any character between a and b.\n",
    "\n",
    "##### Matching strings: acb, acbb\n",
    "\n",
    "##### Not matching strings: ab, acab "
   ]
  },
  {
   "cell_type": "code",
   "execution_count": 28,
   "metadata": {},
   "outputs": [
    {
     "name": "stdout",
     "output_type": "stream",
     "text": [
      "Match found\n"
     ]
    }
   ],
   "source": [
    "string = \"acb\"\n",
    "pattern = r\"a.b\"\n",
    "\n",
    "\n",
    "if re.match(pattern, string):\n",
    "    print('Match found')\n",
    "else:\n",
    "    print('Match not found')"
   ]
  },
  {
   "cell_type": "code",
   "execution_count": 29,
   "metadata": {},
   "outputs": [
    {
     "name": "stdout",
     "output_type": "stream",
     "text": [
      "Match not found\n"
     ]
    }
   ],
   "source": [
    "string = \"achb\"\n",
    "pattern = r\"a.b\"\n",
    "\n",
    "\n",
    "if re.match(pattern, string):\n",
    "    print('Match found')\n",
    "else:\n",
    "    print('Match not found')"
   ]
  },
  {
   "cell_type": "code",
   "execution_count": 32,
   "metadata": {},
   "outputs": [
    {
     "name": "stdout",
     "output_type": "stream",
     "text": [
      "Match found\n"
     ]
    }
   ],
   "source": [
    "string = \"acbb\"\n",
    "pattern = r\"a.b\"\n",
    "\n",
    "\n",
    "if re.match(pattern, string):\n",
    "    print('Match found')\n",
    "else:\n",
    "    print('Match not found')"
   ]
  },
  {
   "cell_type": "code",
   "execution_count": 33,
   "metadata": {},
   "outputs": [
    {
     "name": "stdout",
     "output_type": "stream",
     "text": [
      "Match found\n"
     ]
    }
   ],
   "source": [
    "string = \"achb\"\n",
    "pattern = r\"a..b\"\n",
    "\n",
    "\n",
    "if re.match(pattern, string):\n",
    "    print('Match found')\n",
    "else:\n",
    "    print('Match not found')"
   ]
  },
  {
   "cell_type": "markdown",
   "metadata": {},
   "source": [
    "### The optional Metacharacter"
   ]
  },
  {
   "cell_type": "code",
   "execution_count": 34,
   "metadata": {},
   "outputs": [
    {
     "name": "stdout",
     "output_type": "stream",
     "text": [
      "Match found\n"
     ]
    }
   ],
   "source": [
    "# any character denoted by ? any character that precide will be optional \n",
    "\n",
    "string = \"python-file\"\n",
    "pattern = r\"python-?file\" \n",
    "\n",
    "\n",
    "if re.match(pattern, string):\n",
    "    print('Match found')\n",
    "else:\n",
    "    print('Match not found')"
   ]
  },
  {
   "cell_type": "code",
   "execution_count": 35,
   "metadata": {},
   "outputs": [
    {
     "name": "stdout",
     "output_type": "stream",
     "text": [
      "Match found\n"
     ]
    }
   ],
   "source": [
    "string = \"pythonfile\"\n",
    "pattern = r\"python-?file\" \n",
    "\n",
    "\n",
    "if re.match(pattern, string):\n",
    "    print('Match found')\n",
    "else:\n",
    "    print('Match not found')"
   ]
  },
  {
   "cell_type": "markdown",
   "metadata": {},
   "source": [
    "## Caret Metacharacter ^"
   ]
  },
  {
   "cell_type": "code",
   "execution_count": 36,
   "metadata": {},
   "outputs": [
    {
     "name": "stdout",
     "output_type": "stream",
     "text": [
      "Match found\n"
     ]
    }
   ],
   "source": [
    "# tells the computer that the match must start from a particular point\n",
    "\n",
    "string = \"59369584965\"\n",
    "pattern = r\"^593\" \n",
    "\n",
    "\n",
    "if re.match(pattern, string):\n",
    "    print('Match found')\n",
    "else:\n",
    "    print('Match not found')"
   ]
  },
  {
   "cell_type": "code",
   "execution_count": 37,
   "metadata": {},
   "outputs": [
    {
     "name": "stdout",
     "output_type": "stream",
     "text": [
      "Match not found\n"
     ]
    }
   ],
   "source": [
    "string = \"69584965\"\n",
    "pattern = r\"^593\" \n",
    "\n",
    "\n",
    "if re.match(pattern, string):\n",
    "    print('Match found')\n",
    "else:\n",
    "    print('Match not found')"
   ]
  },
  {
   "cell_type": "code",
   "execution_count": 38,
   "metadata": {},
   "outputs": [
    {
     "name": "stdout",
     "output_type": "stream",
     "text": [
      "Match found\n"
     ]
    }
   ],
   "source": [
    "string = \"59369584965\"\n",
    "pattern = r\"^59\" \n",
    "\n",
    "\n",
    "if re.match(pattern, string):\n",
    "    print('Match found')\n",
    "else:\n",
    "    print('Match not found')"
   ]
  },
  {
   "cell_type": "markdown",
   "metadata": {},
   "source": [
    "## Character Classes "
   ]
  },
  {
   "cell_type": "code",
   "execution_count": 40,
   "metadata": {},
   "outputs": [
    {
     "name": "stdout",
     "output_type": "stream",
     "text": [
      "Match found\n"
     ]
    }
   ],
   "source": [
    "# \\d is used just for digists not alphafetich characters!!\n",
    "\n",
    "string = \"59369584965\"\n",
    "pattern = r\"\\d{5}\" \n",
    "\n",
    "\n",
    "if re.match(pattern, string):\n",
    "    print('Match found')\n",
    "else:\n",
    "    print('Match not found')"
   ]
  },
  {
   "cell_type": "code",
   "execution_count": 41,
   "metadata": {},
   "outputs": [
    {
     "name": "stdout",
     "output_type": "stream",
     "text": [
      "Match not found\n"
     ]
    }
   ],
   "source": [
    "string = \"5936\"\n",
    "pattern = r\"\\d{5}\" \n",
    "\n",
    "\n",
    "if re.match(pattern, string):\n",
    "    print('Match found')\n",
    "else:\n",
    "    print('Match not found')"
   ]
  },
  {
   "cell_type": "code",
   "execution_count": 42,
   "metadata": {},
   "outputs": [
    {
     "name": "stdout",
     "output_type": "stream",
     "text": [
      "Match not found\n"
     ]
    }
   ],
   "source": [
    "\n",
    "\n",
    "string = \"ab593695\"\n",
    "pattern = r\"\\d{5}\" \n",
    "\n",
    "\n",
    "if re.match(pattern, string):\n",
    "    print('Match found')\n",
    "else:\n",
    "    print('Match not found')"
   ]
  },
  {
   "cell_type": "code",
   "execution_count": 48,
   "metadata": {},
   "outputs": [
    {
     "name": "stdout",
     "output_type": "stream",
     "text": [
      "Match found\n"
     ]
    }
   ],
   "source": [
    "# the oposite is \\D string should have any NON Digit characters\n",
    "\n",
    "string = \"python\"\n",
    "pattern = r\"\\D\" \n",
    "\n",
    "\n",
    "if re.match(pattern, string):\n",
    "    print('Match found')\n",
    "else:\n",
    "    print('Match not found')"
   ]
  },
  {
   "cell_type": "code",
   "execution_count": 49,
   "metadata": {},
   "outputs": [
    {
     "name": "stdout",
     "output_type": "stream",
     "text": [
      "Match found\n"
     ]
    }
   ],
   "source": [
    "# Similar to \\D we have \\w means the string will match any word character ALPHA NUMERIC!!\n",
    "\n",
    "string = \"python\"\n",
    "pattern = r\"\\w\" \n",
    "\n",
    "\n",
    "if re.match(pattern, string):\n",
    "    print('Match found')\n",
    "else:\n",
    "    print('Match not found')"
   ]
  },
  {
   "cell_type": "code",
   "execution_count": 50,
   "metadata": {},
   "outputs": [
    {
     "name": "stdout",
     "output_type": "stream",
     "text": [
      "Match found\n"
     ]
    }
   ],
   "source": [
    "string = \"python99\"\n",
    "pattern = r\"\\w\" \n",
    "\n",
    "\n",
    "if re.match(pattern, string):\n",
    "    print('Match found')\n",
    "else:\n",
    "    print('Match not found')"
   ]
  },
  {
   "cell_type": "code",
   "execution_count": 51,
   "metadata": {},
   "outputs": [
    {
     "name": "stdout",
     "output_type": "stream",
     "text": [
      "Match found\n"
     ]
    }
   ],
   "source": [
    "string = \"python-99\"\n",
    "pattern = r\"\\w\" \n",
    "\n",
    "\n",
    "if re.match(pattern, string):\n",
    "    print('Match found')\n",
    "else:\n",
    "    print('Match not found')"
   ]
  },
  {
   "cell_type": "code",
   "execution_count": 52,
   "metadata": {},
   "outputs": [
    {
     "name": "stdout",
     "output_type": "stream",
     "text": [
      "Match found\n"
     ]
    }
   ],
   "source": [
    "\n",
    "string = \"user75\"\n",
    "pattern = r\"\\w{4}\" \n",
    "\n",
    "\n",
    "if re.match(pattern, string):\n",
    "    print('Match found')\n",
    "else:\n",
    "    print('Match not found')"
   ]
  },
  {
   "cell_type": "code",
   "execution_count": 53,
   "metadata": {},
   "outputs": [
    {
     "name": "stdout",
     "output_type": "stream",
     "text": [
      "Match not found\n"
     ]
    }
   ],
   "source": [
    "string = \"u5\"\n",
    "pattern = r\"\\w{4}\" \n",
    "\n",
    "\n",
    "if re.match(pattern, string):\n",
    "    print('Match found')\n",
    "else:\n",
    "    print('Match not found')"
   ]
  },
  {
   "cell_type": "code",
   "execution_count": 54,
   "metadata": {},
   "outputs": [
    {
     "name": "stdout",
     "output_type": "stream",
     "text": [
      "Match found\n"
     ]
    }
   ],
   "source": [
    "\n",
    "# Python python\n",
    "\n",
    "string = \"Python\"\n",
    "pattern = r\"^[Pp]ython\" \n",
    "\n",
    "\n",
    "if re.match(pattern, string):\n",
    "    print('Match found')\n",
    "else:\n",
    "    print('Match not found')"
   ]
  },
  {
   "cell_type": "code",
   "execution_count": 55,
   "metadata": {},
   "outputs": [
    {
     "name": "stdout",
     "output_type": "stream",
     "text": [
      "Match found\n"
     ]
    }
   ],
   "source": [
    "# Python python\n",
    "\n",
    "string = \"python\"\n",
    "pattern = r\"^[Pp]ython\" \n",
    "\n",
    "\n",
    "if re.match(pattern, string):\n",
    "    print('Match found')\n",
    "else:\n",
    "    print('Match not found')"
   ]
  },
  {
   "cell_type": "code",
   "execution_count": 56,
   "metadata": {},
   "outputs": [
    {
     "name": "stdout",
     "output_type": "stream",
     "text": [
      "Match found\n"
     ]
    }
   ],
   "source": [
    "#lowercase letters\n",
    "\n",
    "string = \"python\"\n",
    "pattern = r\"^[a-z]\" \n",
    "\n",
    "\n",
    "if re.match(pattern, string):\n",
    "    print('Match found')\n",
    "else:\n",
    "    print('Match not found')"
   ]
  },
  {
   "cell_type": "code",
   "execution_count": 57,
   "metadata": {},
   "outputs": [
    {
     "name": "stdout",
     "output_type": "stream",
     "text": [
      "Match not found\n"
     ]
    }
   ],
   "source": [
    "string = \"Python\"\n",
    "pattern = r\"^[a-z]\" \n",
    "\n",
    "\n",
    "if re.match(pattern, string):\n",
    "    print('Match found')\n",
    "else:\n",
    "    print('Match not found')"
   ]
  },
  {
   "cell_type": "code",
   "execution_count": 58,
   "metadata": {},
   "outputs": [
    {
     "name": "stdout",
     "output_type": "stream",
     "text": [
      "Match found\n"
     ]
    }
   ],
   "source": [
    "# upper and lowercase letters\n",
    "\n",
    "string = \"Python\"\n",
    "pattern = r\"^[a-zA-Z]\" \n",
    "\n",
    "\n",
    "if re.match(pattern, string):\n",
    "    print('Match found')\n",
    "else:\n",
    "    print('Match not found')"
   ]
  },
  {
   "cell_type": "code",
   "execution_count": null,
   "metadata": {},
   "outputs": [],
   "source": []
  }
 ],
 "metadata": {
  "kernelspec": {
   "display_name": "Python 3",
   "language": "python",
   "name": "python3"
  },
  "language_info": {
   "codemirror_mode": {
    "name": "ipython",
    "version": 3
   },
   "file_extension": ".py",
   "mimetype": "text/x-python",
   "name": "python",
   "nbconvert_exporter": "python",
   "pygments_lexer": "ipython3",
   "version": "3.6.7"
  }
 },
 "nbformat": 4,
 "nbformat_minor": 2
}
