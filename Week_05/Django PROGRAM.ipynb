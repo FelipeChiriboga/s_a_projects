{
 "cells": [
  {
   "cell_type": "code",
   "execution_count": 1,
   "metadata": {},
   "outputs": [
    {
     "data": {
      "text/plain": [
       "'\\nTODO:\\n\\n* get a Django web server running\\n* use an HTML template\\n* connect to a database from Django\\n* process a web form\\n* make the HTML nicer\\n* display a picture\\n'"
      ]
     },
     "execution_count": 1,
     "metadata": {},
     "output_type": "execute_result"
    }
   ],
   "source": [
    "\"\"\"\n",
    "TODO:\n",
    "\n",
    "* get a Django web server running\n",
    "* use an HTML template\n",
    "* connect to a database from Django\n",
    "* process a web form\n",
    "* make the HTML nicer\n",
    "* display a picture\n",
    "\"\"\""
   ]
  },
  {
   "cell_type": "code",
   "execution_count": null,
   "metadata": {},
   "outputs": [],
   "source": [
    "\"\"\"\n",
    "import os \n",
    "os.environ.setdefault('DJANGO_SETTINGS_MODULE', 'movie_recomender.settings')\n",
    "\n",
    "import django\n",
    "django.setup()\n",
    "\n",
    "from recommender.models import Movie\n",
    "for m in Movie.objects.all(0):\n",
    "    print(m)\n",
    "\n",
    "\n",
    "Options for writing existing data to a DB managed by Django:\n",
    "\n",
    "1) read data files to a df, and loop that creates Django Model objects\n",
    "2) read data from existing DB to a df (with pd.read_sql), and loop\n",
    "3) read data from existing DB using sqlite3 and loop\n",
    "4) .. write entries to Django DB with sqlite3 \n",
    "     (requires to find out table + column names)\n",
    "5) use SQL COPY to load CSV file to DB directly\n",
    "     (maybe doesn't work with sqlite3)\n",
    "\n",
    "\n",
    "for index, row in df.iterrows():\n",
    "\n",
    "\n",
    "# create a new movie\n",
    "m = Movie()\n",
    "m.movie_id = input('enter a movie ID: ')\n",
    "m.title = input('enter a title: ')\n",
    "m.genre = input('enter a genre: ')\n",
    "m.save()\n",
    "\n",
    "\n",
    "\n",
    "Collapse \n",
    "\n",
    "new messages\n",
    "\n",
    "\"\"\""
   ]
  }
 ],
 "metadata": {
  "kernelspec": {
   "display_name": "Python 3",
   "language": "python",
   "name": "python3"
  },
  "language_info": {
   "codemirror_mode": {
    "name": "ipython",
    "version": 3
   },
   "file_extension": ".py",
   "mimetype": "text/x-python",
   "name": "python",
   "nbconvert_exporter": "python",
   "pygments_lexer": "ipython3",
   "version": "3.6.7"
  }
 },
 "nbformat": 4,
 "nbformat_minor": 2
}
