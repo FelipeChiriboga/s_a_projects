{
 "cells": [
  {
   "cell_type": "code",
   "execution_count": 7,
   "metadata": {},
   "outputs": [],
   "source": [
    "\"\"\"\n",
    "Write a Python program that converts the two list\n",
    "to the correct sentences and prints them.\n",
    "\"\"\"\n",
    "\n",
    "left = [\n",
    " 'Outlier or anomaly detection is used',\n",
    " 'Principal Component Analysis (PCA) is a method',\n",
    " 'Principal Component Analysis (PCA) is frequently used',\n",
    " 'There are many clustering methods',\n",
    " 'Non-negative Matrix Factorization (NMF) is an algorithm',\n",
    " 'Most clustering algorithms are based on a distance metric',\n",
    " 'Gaussian Mixture Models (GMM) are a generative model',\n",
    " 'Unsupervised learning is a family of machine learning methods',\n",
    " 'The \"curse of dimensionality\" is a problem',\n",
    " 't-SNE reduces data to two dimensions'\n",
    "]\n",
    "\n",
    "right = [\n",
    " 'frequently used in recommender systems and customer segmentation.',\n",
    " 'to visualize complex datasets.',\n",
    " 'that becomes worse the more features you have.',\n",
    " 'to identify credit card fraud.',\n",
    " 'for dimensionality reduction.',\n",
    " 'e.g. Euclidean or Manhatten distance.',\n",
    " 'that do not require labled data.',\n",
    " 'for detecting outliers.',\n",
    " 'as part of a supervised learning pipeline.',\n",
    " 'like K-means, DBSCAN or Ward.'\n",
    "]\n"
   ]
  },
  {
   "cell_type": "code",
   "execution_count": null,
   "metadata": {},
   "outputs": [],
   "source": []
  },
  {
   "cell_type": "code",
   "execution_count": null,
   "metadata": {},
   "outputs": [],
   "source": [
    "5 'Most clustering algorithms are based on a distance metric',\n",
    "5 'e.g. Euclidean or Manhatten distance.',\n",
    "8 'The \"curse of dimensionality\" is a problem',\n",
    "2 'that becomes worse the more features you have.',\n",
    "9 't-SNE reduces data to two dimensions'\n",
    "1 'to visualize complex datasets.',\n",
    "0 'Outlier or anomaly detection is used',\n",
    "3 'to identify credit card fraud.',\n",
    "3 'There are many clustering methods',\n",
    "9 'like K-means, DBSCAN or Ward.'\n",
    "7 'Unsupervised learning is a family of machine learning methods',\n",
    "6 'that do not require labled data.',\n",
    "1 'Principal Component Analysis (PCA) is a method',\n",
    "0 'frequently used in recommender systems and customer segmentation.',\n",
    "2 'Principal Component Analysis (PCA) is frequently used',\n",
    "4 'for dimensionality reduction.',\n",
    "6 'Gaussian Mixture Models (GMM) are a generative model',\n",
    "7 'for detecting outliers.',\n",
    "4 'Non-negative Matrix Factorization (NMF) is an algorithm',\n",
    "8 'as part of a supervised learning pipeline.',\n"
   ]
  },
  {
   "cell_type": "code",
   "execution_count": null,
   "metadata": {},
   "outputs": [],
   "source": []
  }
 ],
 "metadata": {
  "kernelspec": {
   "display_name": "Python 3",
   "language": "python",
   "name": "python3"
  },
  "language_info": {
   "codemirror_mode": {
    "name": "ipython",
    "version": 3
   },
   "file_extension": ".py",
   "mimetype": "text/x-python",
   "name": "python",
   "nbconvert_exporter": "python",
   "pygments_lexer": "ipython3",
   "version": "3.6.7"
  }
 },
 "nbformat": 4,
 "nbformat_minor": 2
}
