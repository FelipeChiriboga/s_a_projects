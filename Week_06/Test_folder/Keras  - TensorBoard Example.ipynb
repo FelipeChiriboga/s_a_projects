{
 "cells": [
  {
   "cell_type": "code",
   "execution_count": 1,
   "metadata": {},
   "outputs": [
    {
     "name": "stderr",
     "output_type": "stream",
     "text": [
      "Using TensorFlow backend.\n"
     ]
    },
    {
     "name": "stdout",
     "output_type": "stream",
     "text": [
      "_________________________________________________________________\n",
      "Layer (type)                 Output Shape              Param #   \n",
      "=================================================================\n",
      "dense_1 (Dense)              (None, 28, 10)            290       \n",
      "_________________________________________________________________\n",
      "activation_1 (Activation)    (None, 28, 10)            0         \n",
      "_________________________________________________________________\n",
      "flatten_1 (Flatten)          (None, 280)               0         \n",
      "_________________________________________________________________\n",
      "dense_2 (Dense)              (None, 10)                2810      \n",
      "_________________________________________________________________\n",
      "activation_2 (Activation)    (None, 10)                0         \n",
      "=================================================================\n",
      "Total params: 3,100\n",
      "Trainable params: 3,100\n",
      "Non-trainable params: 0\n",
      "_________________________________________________________________\n",
      "None\n",
      "60000/60000 [==============================] - 1s 19us/step\n",
      "[0.011705299768379215, 0.9411833349863689]\n"
     ]
    }
   ],
   "source": [
    "import numpy as np\n",
    "import keras\n",
    "\n",
    "from keras.models import Sequential\n",
    "from keras.layers import Dense, Activation\n",
    "from keras.datasets import mnist\n",
    "from keras.layers import Flatten\n",
    "from keras.utils import to_categorical\n",
    "from keras import backend as K\n",
    "from keras.callbacks import TensorBoard\n",
    "\n",
    "K.clear_session()\n",
    "\n",
    "(X_train, y_train), (X_test, y_test) = mnist.load_data()\n",
    "y_train = to_categorical(y_train, num_classes = 10)\n",
    "# X = np.array([[0.0, 0.0], [1.0, 0.0], [0.0, 1.0], [1.0, 1.0]], dtype=np.float64)\n",
    "# y = np.array([0.0, 1.0, 1.0, 0.0], dtype=np.float64)\n",
    "\n",
    "# important part we need to choose the model!!\n",
    "model = Sequential([\n",
    "    Dense(10, input_shape=(28, 28)),\n",
    "    Activation('relu'),\n",
    "    Flatten(),\n",
    "    Dense(10),\n",
    "    Activation('softmax'),\n",
    "])\n",
    "\n",
    "print(model.summary())\n",
    "\n",
    "# jupiter notebook - important - needs to add a 'reset keras function'\n",
    "model.compile(optimizer='rmsprop', loss='mse', metrics=['accuracy'])\n",
    "\n",
    "tboard = TensorBoard(log_dir='./output', histogram_freq=5, write_graph=True, write_images=True)\n",
    "\n",
    "model.fit(X_train, y_train, epochs=200, batch_size=100, validation_split=0.2, verbose=0, callbacks=[tboard])\n",
    "\n",
    "score = model.evaluate(X_train, y_train, batch_size=100)\n",
    "print(score)\n"
   ]
  },
  {
   "cell_type": "markdown",
   "metadata": {},
   "source": [
    "Starting TensorBoard\n",
    "\n",
    "TensorBoard looks for its input in an output directory containing files with the graph and metrics.\n",
    "\n",
    "    Start a terminal\n",
    "    Go to the directory in which output is located (REMEBER TO CHOOSE TEST Environment)\n",
    "    Type the command tensorboard --logdir=output --host=localhost --port=8080\n",
    "    Open your browser at http://localhost:8080\n"
   ]
  },
  {
   "cell_type": "code",
   "execution_count": null,
   "metadata": {},
   "outputs": [],
   "source": []
  }
 ],
 "metadata": {
  "kernelspec": {
   "display_name": "Python 3",
   "language": "python",
   "name": "python3"
  },
  "language_info": {
   "codemirror_mode": {
    "name": "ipython",
    "version": 3
   },
   "file_extension": ".py",
   "mimetype": "text/x-python",
   "name": "python",
   "nbconvert_exporter": "python",
   "pygments_lexer": "ipython3",
   "version": "3.6.7"
  }
 },
 "nbformat": 4,
 "nbformat_minor": 2
}
